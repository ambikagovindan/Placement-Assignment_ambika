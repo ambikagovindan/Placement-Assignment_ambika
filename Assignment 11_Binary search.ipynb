{
 "cells": [
  {
   "cell_type": "markdown",
   "id": "874765ab",
   "metadata": {},
   "source": [
    "<aside>\n",
    "💡 **Question 1**\n",
    "\n",
    "Given a non-negative integer `x`, return *the square root of* `x` *rounded down to the nearest integer*. The returned integer should be **non-negative** as well.\n",
    "\n",
    "You **must not use** any built-in exponent function or operator.\n",
    "\n",
    "- For example, do not use `pow(x, 0.5)` in c++ or `x ** 0.5` in python.\n",
    "\n",
    "**Example 1:**\n",
    "\n",
    "```\n",
    "Input: x = 4\n",
    "Output: 2\n",
    "Explanation: The square root of 4 is 2, so we return 2.\n",
    "\n",
    "```\n",
    "\n",
    "</aside>"
   ]
  },
  {
   "cell_type": "code",
   "execution_count": 6,
   "id": "3ca077d3",
   "metadata": {},
   "outputs": [
    {
     "data": {
      "text/plain": [
       "5"
      ]
     },
     "execution_count": 6,
     "metadata": {},
     "output_type": "execute_result"
    }
   ],
   "source": [
    "def floorSqrt(x:int):\n",
    "    \n",
    "    # base cases\n",
    "    if (x==0) or (x==1):\n",
    "        return x\n",
    "    \n",
    "    \n",
    "    # binary search for the floor (sqrt(x))\n",
    "    start = 1\n",
    "    end = x//2\n",
    "    while start <= end:\n",
    "        mid = (start+end)//2\n",
    "        \n",
    "        # if x is a perfect square\n",
    "        if (mid*mid) == x:\n",
    "            return mid\n",
    "        \n",
    "        if mid*mid < x:\n",
    "            start = mid+1\n",
    "            ans = mid\n",
    "        else:\n",
    "            end = mid-1\n",
    "            \n",
    "    return ans  \n",
    "\n",
    "# driver code\n",
    "x = 26\n",
    "floorSqrt(x)\n"
   ]
  },
  {
   "cell_type": "markdown",
   "id": "fdcec23d",
   "metadata": {},
   "source": [
    "<aside>\n",
    "💡 **Question 2**\n",
    "\n",
    "A peak element is an element that is strictly greater than its neighbors.\n",
    "\n",
    "Given a **0-indexed** integer array `nums`, find a peak element, and return its index. If the array contains multiple peaks, return the index to **any of the peaks**.\n",
    "\n",
    "You may imagine that `nums[-1] = nums[n] = -∞`. In other words, an element is always considered to be strictly greater than a neighbor that is outside the array.\n",
    "\n",
    "You must write an algorithm that runs in `O(log n)` time.\n",
    "\n",
    "**Example 1:**\n",
    "\n",
    "</aside>\n",
    "\n",
    "Input: nums = [1,2,3,1]\n",
    "Output: 2\n",
    "Explanation: 3 is a peak element and your function should return the index number 2."
   ]
  },
  {
   "cell_type": "code",
   "execution_count": 2,
   "id": "7e0ca78d",
   "metadata": {},
   "outputs": [
    {
     "data": {
      "text/plain": [
       "2"
      ]
     },
     "execution_count": 2,
     "metadata": {},
     "output_type": "execute_result"
    }
   ],
   "source": [
    "def findPeak(arr):\n",
    "    n = len(arr)\n",
    "   \n",
    "    l = 0\n",
    "    r = n-1\n",
    "     \n",
    "    while(l <= r):\n",
    " \n",
    "        # finding mid by binary right shifting.\n",
    "        mid = (l + r) >> 1\n",
    " \n",
    "        # first case if mid is the answer\n",
    "        if((mid == 0 or arr[mid - 1] <= arr[mid]) and (mid == n - 1 or arr[mid + 1] <= arr[mid])):\n",
    "            break\n",
    " \n",
    "        # move the right pointer\n",
    "        if(mid > 0 and arr[mid - 1] > arr[mid]):\n",
    "            r = mid - 1\n",
    " \n",
    "        # move the left pointer\n",
    "        else:\n",
    "            l = mid + 1\n",
    " \n",
    "    return mid\n",
    " \n",
    "# driver code\n",
    "arr = [1, 3, 20, 4, 1, 0]\n",
    "n = len(arr)\n",
    "findPeak(arr)"
   ]
  },
  {
   "cell_type": "markdown",
   "id": "7bff8da7",
   "metadata": {},
   "source": [
    "<aside>\n",
    "💡 **Question 3**\n",
    "\n",
    "****\n",
    "\n",
    "Given an array `nums` containing `n` distinct numbers in the range `[0, n]`, return *the only number in the range that is missing from the array.*\n",
    "\n",
    "</aside>"
   ]
  },
  {
   "cell_type": "code",
   "execution_count": 5,
   "id": "251b774b",
   "metadata": {},
   "outputs": [
    {
     "data": {
      "text/plain": [
       "2"
      ]
     },
     "execution_count": 5,
     "metadata": {},
     "output_type": "execute_result"
    }
   ],
   "source": [
    "def missingNumber(nums:list[int]) -> int:\n",
    "        n = len(nums)\n",
    "        nums.sort()\n",
    "\n",
    "        for i in range(0, n+1):\n",
    "            left = 0\n",
    "            right = n\n",
    "            ifFound = False\n",
    "            while left < right:\n",
    "                mid = left + (right - left ) // 2\n",
    "\n",
    "                if nums[mid] == i:\n",
    "                    ifFound = True\n",
    "                    break\n",
    "\n",
    "                elif i < nums[mid]:\n",
    "                    right = mid\n",
    "\n",
    "                else:\n",
    "                    left = mid + 1\n",
    "\n",
    "            if ifFound == False:\n",
    "                return i\n",
    "        return n+1\n",
    "    \n",
    "# driver code\n",
    "\n",
    "nums = [0,1]\n",
    "missingNumber(nums)"
   ]
  },
  {
   "cell_type": "markdown",
   "id": "01a3d3dd",
   "metadata": {},
   "source": [
    "<aside>\n",
    "💡 **Question 4**\n",
    "\n",
    "Given an array of integers `nums` containing `n + 1` integers where each integer is in the range `[1, n]` inclusive.\n",
    "\n",
    "There is only **one repeated number** in `nums`, return *this repeated number*.\n",
    "\n",
    "You must solve the problem **without** modifying the array `nums` and uses only constant extra space.\n",
    "\n",
    "</aside>"
   ]
  },
  {
   "cell_type": "code",
   "execution_count": 6,
   "id": "186bc164",
   "metadata": {},
   "outputs": [
    {
     "data": {
      "text/plain": [
       "2"
      ]
     },
     "execution_count": 6,
     "metadata": {},
     "output_type": "execute_result"
    }
   ],
   "source": [
    "def findDuplicate(nums:list[int]):\n",
    "    slow = fast = ans = 0\n",
    "    while True:\n",
    "        slow = nums[slow]\n",
    "        fast = nums[nums[fast]]\n",
    "        if slow == fast:\n",
    "            break\n",
    "    while ans != slow:\n",
    "        ans = nums[ans]\n",
    "        slow = nums[slow]\n",
    "    return ans\n",
    "\n",
    "# driver code\n",
    "nums = [1,3,4,2,2]\n",
    "findDuplicate(nums)"
   ]
  },
  {
   "cell_type": "markdown",
   "id": "15fec983",
   "metadata": {},
   "source": [
    "<aside>\n",
    "💡 **Question 5**\n",
    "\n",
    "Given two integer arrays `nums1` and `nums2`, return *an array of their intersection*. Each element in the result must be **unique** and you may return the result in **any order**.\n",
    "\n",
    "</aside>"
   ]
  },
  {
   "cell_type": "code",
   "execution_count": 14,
   "id": "eb9e513f",
   "metadata": {},
   "outputs": [
    {
     "data": {
      "text/plain": [
       "[2]"
      ]
     },
     "execution_count": 14,
     "metadata": {},
     "output_type": "execute_result"
    }
   ],
   "source": [
    "    def binarySearch(numOne, numTwo):\n",
    "        numTwo.sort()\n",
    "        result = []\n",
    "        seen = set()\n",
    "        for num in numOne:\n",
    "            if binarySearchHelper(numTwo, num) and num not in seen:\n",
    "                result.append(num)\n",
    "                seen.add(num)\n",
    "            seen.add(num)\n",
    "                \n",
    "        return result\n",
    "    \n",
    "    def binarySearchHelper(numOne, num):\n",
    "        left, right = 0, len(numOne) - 1\n",
    "        while left <= right:\n",
    "            mid = (left + right) // 2 \n",
    "\n",
    "            if numOne[mid] == num:\n",
    "                return True\n",
    "\n",
    "            elif numOne[mid] < num:\n",
    "                left = mid + 1\n",
    "            else:\n",
    "                right = mid - 1 \n",
    "\n",
    "\n",
    "        return False\n",
    "    \n",
    "    # driver code\n",
    "    nums1 = [1,2,2,1]\n",
    "    nums2 = [2,2]\n",
    "    binarySearch(nums1,nums2)"
   ]
  },
  {
   "cell_type": "markdown",
   "id": "9e720a3f",
   "metadata": {},
   "source": [
    "<aside>\n",
    "💡 **Question 6**\n",
    "\n",
    "Suppose an array of length `n` sorted in ascending order is **rotated** between `1` and `n` times. For example, the array `nums = [0,1,2,4,5,6,7]` might become:\n",
    "\n",
    "- `[4,5,6,7,0,1,2]` if it was rotated `4` times.\n",
    "- `[0,1,2,4,5,6,7]` if it was rotated `7` times.\n",
    "\n",
    "Notice that **rotating** an array `[a[0], a[1], a[2], ..., a[n-1]]` 1 time results in the array `[a[n-1], a[0], a[1], a[2], ..., a[n-2]]`.\n",
    "\n",
    "Given the sorted rotated array `nums` of **unique** elements, return *the minimum element of this array*.\n",
    "\n",
    "You must write an algorithm that runs in `O(log n) time.`\n",
    "\n",
    "</aside>"
   ]
  },
  {
   "cell_type": "code",
   "execution_count": 15,
   "id": "06771cd5",
   "metadata": {},
   "outputs": [
    {
     "data": {
      "text/plain": [
       "1"
      ]
     },
     "execution_count": 15,
     "metadata": {},
     "output_type": "execute_result"
    }
   ],
   "source": [
    "def findMin(arr, low, high):\n",
    "    # This condition is needed to handle the case when array is not\n",
    "    # rotated at all\n",
    "    if high < low:\n",
    "        return arr[0]\n",
    " \n",
    "    # If there is only one element left\n",
    "    if high == low:\n",
    "        return arr[low]\n",
    " \n",
    "    # Find mid\n",
    "    mid = int((low + high)/2)\n",
    " \n",
    "    # Check if element (mid+1) is minimum element. Consider\n",
    "    # the cases like [3, 4, 5, 1, 2]\n",
    "    if mid < high and arr[mid+1] < arr[mid]:\n",
    "        return arr[mid+1]\n",
    " \n",
    "    # Check if mid itself is minimum element\n",
    "    if mid > low and arr[mid] < arr[mid - 1]:\n",
    "        return arr[mid]\n",
    " \n",
    "    # Decide whether we need to go to left half or right half\n",
    "    if arr[high] > arr[mid]:\n",
    "        return findMin(arr, low, mid-1)\n",
    "    return findMin(arr, mid+1, high)\n",
    "\n",
    "# driver code\n",
    "arr = [5, 6, 1, 2, 3, 4]\n",
    "N = len(arr)\n",
    "findMin(arr, 0, N-1)"
   ]
  },
  {
   "cell_type": "markdown",
   "id": "213ed48a",
   "metadata": {},
   "source": [
    "<aside>\n",
    "💡 **Question 8**\n",
    "\n",
    "Given two integer arrays `nums1` and `nums2`, return *an array of their intersection*. Each element in the result must appear as many times as it shows in both arrays and you may return the result in **any order**.\n",
    "\n",
    "</aside>"
   ]
  },
  {
   "cell_type": "code",
   "execution_count": 21,
   "id": "d1cdced9",
   "metadata": {},
   "outputs": [
    {
     "data": {
      "text/plain": [
       "[2, 2]"
      ]
     },
     "execution_count": 21,
     "metadata": {},
     "output_type": "execute_result"
    }
   ],
   "source": [
    "def intersect(nums1,nums2):\n",
    "    count1 = {}\n",
    "    count2 = {}\n",
    "    for num in nums1:\n",
    "        count1[num] = count1.get(num, 0) + 1\n",
    "    for num in nums2:\n",
    "        count2[num] = count2.get(num, 0) + 1\n",
    "        \n",
    "    arr = []\n",
    "    for num in count1:\n",
    "        if num in count2:\n",
    "            count = min(count1[num], count2[num])\n",
    "            arr.extend([num] * count)\n",
    "        \n",
    "    return arr\n",
    "\n",
    "# driver code\n",
    "nums1 = [1,2,2,1]\n",
    "nums2 = [2,2]\n",
    "intersect(nums1,nums2)"
   ]
  },
  {
   "cell_type": "code",
   "execution_count": null,
   "id": "6b29338f",
   "metadata": {},
   "outputs": [],
   "source": []
  }
 ],
 "metadata": {
  "kernelspec": {
   "display_name": "Python 3 (ipykernel)",
   "language": "python",
   "name": "python3"
  },
  "language_info": {
   "codemirror_mode": {
    "name": "ipython",
    "version": 3
   },
   "file_extension": ".py",
   "mimetype": "text/x-python",
   "name": "python",
   "nbconvert_exporter": "python",
   "pygments_lexer": "ipython3",
   "version": "3.10.4"
  }
 },
 "nbformat": 4,
 "nbformat_minor": 5
}
