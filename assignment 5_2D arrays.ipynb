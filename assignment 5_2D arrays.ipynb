{
 "cells": [
  {
   "cell_type": "markdown",
   "id": "a04642d0",
   "metadata": {},
   "source": [
    "<aside>\n",
    "💡 **Question 1**\n",
    "\n",
    "Convert 1D Array Into 2D Array\n",
    "\n",
    "You are given a **0-indexed** 1-dimensional (1D) integer array original, and two integers, m and n. You are tasked with creating a 2-dimensional (2D) array with  m rows and n columns using **all** the elements from original.\n",
    "\n",
    "The elements from indices 0 to n - 1 (**inclusive**) of original should form the first row of the constructed 2D array, the elements from indices n to 2 * n - 1 (**inclusive**) should form the second row of the constructed 2D array, and so on.\n",
    "\n",
    "Return *an* m x n *2D array constructed according to the above procedure, or an empty 2D array if it is impossible*.\n",
    "\n",
    "**Example 1:**\n",
    "\n",
    "\n",
    "**Input:** original = [1,2,3,4], m = 2, n = 2\n",
    "\n",
    "**Output:** [[1,2],[3,4]]\n",
    "\n",
    "**Explanation:** The constructed 2D array should contain 2 rows and 2 columns.\n",
    "\n",
    "The first group of n=2 elements in original, [1,2], becomes the first row in the constructed 2D array.\n",
    "\n",
    "The second group of n=2 elements in original, [3,4], becomes the second row in the constructed 2D array.\n",
    "\n",
    "</aside>"
   ]
  },
  {
   "cell_type": "code",
   "execution_count": 11,
   "id": "9e09db73",
   "metadata": {},
   "outputs": [
    {
     "data": {
      "text/plain": [
       "[[2, 3, 4], [5, 6, 7], [11, 15, 18], [5, 6, 4]]"
      ]
     },
     "execution_count": 11,
     "metadata": {},
     "output_type": "execute_result"
    }
   ],
   "source": [
    "def construct2Darray(original:list[int],m:int,n:int):\n",
    "    #return an empty list if the values of m * n is not equal to the length of the 1D array original\n",
    "    if m*n != len(original):\n",
    "        return []\n",
    "      \n",
    "    ans = []\n",
    "    for i in range(0, m*n, n):\n",
    "        ans.append(original[i:i+n])\n",
    "            \n",
    "    return ans\n",
    "\n",
    "# driver code\n",
    "arr=[2,3,4,5,6,7,11,15,18,5,6,4]\n",
    "m = 4\n",
    "n = 3\n",
    "construct2Darray(arr,m,n)\n"
   ]
  },
  {
   "cell_type": "markdown",
   "id": "036171aa",
   "metadata": {},
   "source": [
    "Question 2\n",
    "You have n coins and you want to build a staircase with these coins. The staircase consists of k rows where the ith row has exactly i coins. The last row of the staircase **may be** incomplete.\n",
    "\n",
    "Given the integer n, return *the number of **complete rows** of the staircase you will build*."
   ]
  },
  {
   "cell_type": "code",
   "execution_count": 12,
   "id": "1b2fc191",
   "metadata": {},
   "outputs": [
    {
     "data": {
      "text/plain": [
       "6"
      ]
     },
     "execution_count": 12,
     "metadata": {},
     "output_type": "execute_result"
    }
   ],
   "source": [
    "def lenStaircase(n:int):\n",
    "    k = 0\n",
    "    lower = 1\n",
    "    upper = n+1\n",
    "    for i in range(lower,upper):\n",
    "        k = k+1\n",
    "        lower = i+1\n",
    "        upper = upper-i\n",
    "        \n",
    "        if upper-lower <= 0:\n",
    "            break\n",
    "        \n",
    "        \n",
    "    return k \n",
    "# driver code\n",
    "n = 21\n",
    "lenStaircase(n)"
   ]
  },
  {
   "cell_type": "markdown",
   "id": "f0d32300",
   "metadata": {},
   "source": [
    "Question 3\n",
    "Given an integer array nums sorted in **non-decreasing** order, return *an array of **the squares of each number** sorted in non-decreasing order*.\n",
    "\n",
    "**Example 1:**\n",
    "\n",
    "**Input:** nums = [-4,-1,0,3,10]\n",
    "\n",
    "**Output:** [0,1,9,16,100]\n",
    "\n",
    "**Explanation:** After squaring, the array becomes [16,1,0,9,100].\n",
    "\n",
    "After sorting, it becomes [0,1,9,16,100]."
   ]
  },
  {
   "cell_type": "code",
   "execution_count": 13,
   "id": "18a3fd43",
   "metadata": {},
   "outputs": [
    {
     "data": {
      "text/plain": [
       "[0, 1, 9, 16, 100]"
      ]
     },
     "execution_count": 13,
     "metadata": {},
     "output_type": "execute_result"
    }
   ],
   "source": [
    "def sortedSquare(nums:list[int]):\n",
    "    for i in range(len(nums)):\n",
    "        nums[i] = nums[i]**2\n",
    "    nums.sort()    \n",
    "    return nums\n",
    "\n",
    "# driver code:\n",
    "nums = [-4,-1,0,3,10]\n",
    "sortedSquare(nums)"
   ]
  },
  {
   "cell_type": "markdown",
   "id": "6142adf6",
   "metadata": {},
   "source": [
    "\n",
    "💡 **Question 4**\n",
    "\n",
    "Given two **0-indexed** integer arrays nums1 and nums2, return *a list* answer *of size* 2 *where:*\n",
    "\n",
    "- answer[0] *is a list of all **distinct** integers in* nums1 *which are **not** present in* nums2*.*\n",
    "- answer[1] *is a list of all **distinct** integers in* nums2 *which are **not** present in* nums1.\n",
    "\n",
    "**Note** that the integers in the lists may be returned in **any** order.\n",
    "\n",
    "**Example 1:**\n",
    "\n",
    "**Input:** nums1 = [1,2,3], nums2 = [2,4,6]\n",
    "\n",
    "**Output:** [[1,3],[4,6]]\n",
    "\n",
    "**Explanation:**\n",
    "\n",
    "For nums1, nums1[1] = 2 is present at index 0 of nums2, whereas nums1[0] = 1 and nums1[2] = 3 are not present in nums2. Therefore, answer[0] = [1,3].\n",
    "\n",
    "For nums2, nums2[0] = 2 is present at index 1 of nums1, whereas nums2[1] = 4 and nums2[2] = 6 are not present in nums2. Therefore, answer[1] = [4,6].\n",
    "\n",
    "</aside>"
   ]
  },
  {
   "cell_type": "code",
   "execution_count": 15,
   "id": "178fb39c",
   "metadata": {},
   "outputs": [
    {
     "data": {
      "text/plain": [
       "[[1, 3], [4, 6]]"
      ]
     },
     "execution_count": 15,
     "metadata": {},
     "output_type": "execute_result"
    }
   ],
   "source": [
    "def find_difference(arr1:list[int],arr2:list[int]):\n",
    "    ans_0 = []\n",
    "    ans_1 = []\n",
    "    \n",
    "    for i in arr1:\n",
    "        if i not in arr2:\n",
    "            ans_0.append(i)\n",
    "    for j in arr2:\n",
    "        if j not in arr1:\n",
    "            ans_1.append(j)\n",
    "            \n",
    "    return ([list(set(ans_0)),list(set(ans_1))]) \n",
    "\n",
    "#drivr code\n",
    "nums1 = [1,2,3,3]\n",
    "nums2 = [2,4,6,4]\n",
    "\n",
    "find_difference(nums1,nums2)\n"
   ]
  },
  {
   "cell_type": "markdown",
   "id": "847a43b7",
   "metadata": {},
   "source": [
    "<aside>\n",
    "💡 **Question 5**\n",
    "\n",
    "Given two integer arrays arr1 and arr2, and the integer d, *return the distance value between the two arrays*.\n",
    "\n",
    "The distance value is defined as the number of elements arr1[i] such that there is not any element arr2[j] where |arr1[i]-arr2[j]| <= d.\n",
    "\n"
   ]
  },
  {
   "cell_type": "code",
   "execution_count": 20,
   "id": "d8fed47a",
   "metadata": {},
   "outputs": [
    {
     "data": {
      "text/plain": [
       "2"
      ]
     },
     "execution_count": 20,
     "metadata": {},
     "output_type": "execute_result"
    }
   ],
   "source": [
    "def distArrays(arr1:list[int],arr2:list[int],d:int):\n",
    "    n1 = len(arr1)\n",
    "    n2 = len(arr2)\n",
    "    dist = 0\n",
    "    for i in range(n1):\n",
    "        l = 0\n",
    "        for j in range(n2):\n",
    "            if abs(arr1[i]-arr2[j]) > d:\n",
    "                l = l+1\n",
    "            else:\n",
    "                break\n",
    "        if l == n2:\n",
    "            dist = dist+1\n",
    "    return  dist\n",
    "\n",
    "# driver code\n",
    "arr1 = [4,5,8]\n",
    "arr2 = [10,9,1,8]\n",
    "d = 2\n",
    "distArrays(arr1,arr2,d)                "
   ]
  },
  {
   "cell_type": "markdown",
   "id": "a27bda1c",
   "metadata": {},
   "source": [
    "<aside>\n",
    "💡 **Question 6**\n",
    "\n",
    "Given an integer array nums of length n where all the integers of nums are in the range [1, n] and each integer appears **once** or **twice**, return *an array of all the integers that appears **twice***.\n",
    "\n",
    "You must write an algorithm that runs in O(n) time and uses only constant extra space.\n",
    "\n",
    "**Example 1:**\n",
    "\n",
    "**Input:** nums = [4,3,2,7,8,2,3,1]\n",
    "\n",
    "**Output:**\n",
    "\n",
    "[2,3]\n",
    "\n",
    "</aside>"
   ]
  },
  {
   "cell_type": "code",
   "execution_count": 23,
   "id": "986a486f",
   "metadata": {},
   "outputs": [
    {
     "data": {
      "text/plain": [
       "[2, 3]"
      ]
     },
     "execution_count": 23,
     "metadata": {},
     "output_type": "execute_result"
    }
   ],
   "source": [
    "def findDuplicates(nums: list[int]):\n",
    "        \n",
    "    res = []\n",
    "        \n",
    "        # Iterating through each element in the given array\n",
    "        \n",
    "    for num in nums:\n",
    "        at_index = abs(num) - 1  # Getting the index one point less since index starts with zero than the current element for e.g.: n = 4 , so index = 4 - 1 = 3 so on and so forth. (for more in depth explanation read algorithm part at the top)\n",
    "            \n",
    "        if nums[at_index] < 0: # checking if the current number is already negative then the current element is a duplicate\n",
    "            res.append(abs(num))    # Hence add it to the result array\n",
    "        else:\n",
    "            nums[abs(num) - 1] *= -1    # If it's not a negative then we're visiting it for the first time hence mark it visited by making element a negative number \n",
    "                \n",
    "    return res\n",
    "\n",
    "# driver code\n",
    "nums = [4,3,2,7,8,2,3,1]\n",
    "findDuplicates(nums)\n"
   ]
  },
  {
   "cell_type": "markdown",
   "id": "f0150968",
   "metadata": {},
   "source": [
    "\n",
    " **Question 7**\n",
    "\n",
    "Suppose an array of length n sorted in ascending order is **rotated** between 1 and n times. For example, the array nums = [0,1,2,4,5,6,7] might become:\n",
    "\n",
    "- [4,5,6,7,0,1,2] if it was rotated 4 times.\n",
    "- [0,1,2,4,5,6,7] if it was rotated 7 times.\n",
    "\n",
    "Notice that **rotating** an array [a[0], a[1], a[2], ..., a[n-1]] 1 time results in the array [a[n-1], a[0], a[1], a[2], ..., a[n-2]].\n",
    "\n",
    "Given the sorted rotated array nums of **unique** elements, return *the minimum element of this array*.\n",
    "\n",
    "You must write an algorithm that runs in O(log n) time.\n",
    "\n",
    "**Example 1:**\n",
    "\n",
    "**Input:** nums = [3,4,5,1,2]\n",
    "\n",
    "**Output:** 1\n",
    "\n",
    "**Explanation:**\n",
    "\n",
    "The original array was [1,2,3,4,5] rotated 3 times.\n"
   ]
  },
  {
   "cell_type": "code",
   "execution_count": 25,
   "id": "b6fa0bab",
   "metadata": {},
   "outputs": [
    {
     "name": "stdout",
     "output_type": "stream",
     "text": [
      "1\n"
     ]
    }
   ],
   "source": [
    "def findMin(arr:list[int]):\n",
    "    n = len(arr)\n",
    "     \n",
    "    min_ele = arr[0]\n",
    " \n",
    "    for i in range(n) :\n",
    "        if arr[i] < min_ele :\n",
    "            min_ele = arr[i]\n",
    " \n",
    "    return min_ele;\n",
    " \n",
    "# Driver program\n",
    "arr = [5, 6, 1, 2, 3, 4]\n",
    " \n",
    "print(findMin(arr))"
   ]
  },
  {
   "cell_type": "markdown",
   "id": "5f10379a",
   "metadata": {},
   "source": [
    "<aside>\n",
    "💡 **Question 8**\n",
    "\n",
    "An integer array original is transformed into a **doubled** array changed by appending **twice the value** of every element in original, and then randomly **shuffling** the resulting array.\n",
    "\n",
    "Given an array changed, return original *if* changed *is a **doubled** array. If* changed *is not a **doubled** array, return an empty array. The elements in* original *may be returned in **any** order*.\n",
    "\n",
    "**Example 1:**\n",
    "\n",
    "**Input:** changed = [1,3,4,2,6,8]\n",
    "\n",
    "**Output:** [1,3,4]\n",
    "\n",
    "**Explanation:** One possible original array could be [1,3,4]:\n",
    "\n",
    "- Twice the value of 1 is 1 * 2 = 2.\n",
    "- Twice the value of 3 is 3 * 2 = 6.\n",
    "- Twice the value of 4 is 4 * 2 = 8.\n",
    "\n",
    "Other original arrays could be [4,3,1] or [3,1,4].\n",
    "\n",
    "</aside>"
   ]
  },
  {
   "cell_type": "code",
   "execution_count": 35,
   "id": "ab8dc3f8",
   "metadata": {},
   "outputs": [
    {
     "data": {
      "text/plain": [
       "[1, 3, 4]"
      ]
     },
     "execution_count": 35,
     "metadata": {},
     "output_type": "execute_result"
    }
   ],
   "source": [
    "def unchangedArray(changedArr:list[int]):\n",
    "    n = len(changedArr)\n",
    "    result = []\n",
    "    if n%2==1:\n",
    "        result = []\n",
    "    if n%2==0:\n",
    "        for i in range(n//2):\n",
    "            if changedArr[i+(n//2)] == 2 * changedArr[i]:\n",
    "                result.append(changedArr[i])\n",
    "            else:\n",
    "                result = []\n",
    "    return result            \n",
    "                \n",
    "# driver code\n",
    "changed = [1,3,4,2,6,8]\n",
    "unchangedArray(changed)               "
   ]
  },
  {
   "cell_type": "code",
   "execution_count": null,
   "id": "6b7d4610",
   "metadata": {},
   "outputs": [],
   "source": []
  }
 ],
 "metadata": {
  "kernelspec": {
   "display_name": "Python 3 (ipykernel)",
   "language": "python",
   "name": "python3"
  },
  "language_info": {
   "codemirror_mode": {
    "name": "ipython",
    "version": 3
   },
   "file_extension": ".py",
   "mimetype": "text/x-python",
   "name": "python",
   "nbconvert_exporter": "python",
   "pygments_lexer": "ipython3",
   "version": "3.10.4"
  }
 },
 "nbformat": 4,
 "nbformat_minor": 5
}
