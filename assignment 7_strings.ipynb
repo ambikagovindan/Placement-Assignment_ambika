{
 "cells": [
  {
   "cell_type": "markdown",
   "id": "a04642d0",
   "metadata": {},
   "source": [
    "<aside>\n",
    "💡 **Question 1**\n",
    "\n",
    "Given two strings s and t, *determine if they are isomorphic*.\n",
    "\n",
    "Two strings s and t are isomorphic if the characters in s can be replaced to get t.\n",
    "\n",
    "All occurrences of a character must be replaced with another character while preserving the order of characters. No two characters may map to the same character, but a character may map to itself.\n",
    "\n",
    "**Example 1:**\n",
    "\n",
    "**Input:** s = \"egg\", t = \"add\"\n",
    "\n",
    "**Output:** true\n",
    "\n",
    "</aside>"
   ]
  },
  {
   "cell_type": "code",
   "execution_count": 1,
   "id": "2ef57bfe",
   "metadata": {},
   "outputs": [
    {
     "data": {
      "text/plain": [
       "True"
      ]
     },
     "execution_count": 1,
     "metadata": {},
     "output_type": "execute_result"
    }
   ],
   "source": [
    "def areIsomorphic(string1,string2):\n",
    "    m =len(string1)\n",
    "    n = len(string2)\n",
    "    char_dict = {}       \n",
    "    \n",
    "    if len(string1) != len(string2):\n",
    "        return False\n",
    "    \n",
    "    for i in range(m):\n",
    "        if string1[i] not in char_dict:\n",
    "            char_dict[string1[i]] = string2[i]\n",
    "    for i in range(m):\n",
    "        if string2[i] != char_dict[string1[i]]:\n",
    "            return False\n",
    "    return True\n",
    "\n",
    "# driver code\n",
    "s = 'egg'\n",
    "t = 'add'\n",
    "areIsomorphic(s,t)            "
   ]
  },
  {
   "cell_type": "markdown",
   "id": "3a328b4f",
   "metadata": {},
   "source": [
    "<aside>\n",
    "💡 **Question 2**\n",
    "\n",
    "Given a string num which represents an integer, return true *if* num *is a **strobogrammatic number***.\n",
    "\n",
    "A **strobogrammatic number** is a number that looks the same when rotated 180 degrees (looked at upside down).\n",
    "\n",
    "**Example 1:**\n",
    "\n",
    "**Input:** num = \"69\"\n",
    "\n",
    "**Output:**\n",
    "\n",
    "true\n",
    "\n",
    "</aside>"
   ]
  },
  {
   "cell_type": "code",
   "execution_count": 2,
   "id": "bb55674f",
   "metadata": {},
   "outputs": [
    {
     "data": {
      "text/plain": [
       "True"
      ]
     },
     "execution_count": 2,
     "metadata": {},
     "output_type": "execute_result"
    }
   ],
   "source": [
    "def isStrobogrammatic(string):\n",
    "    n = len(string)\n",
    "    nums = ['0','1','6','8','9']\n",
    "    for i in range(n):\n",
    "        if string[i] not in nums:\n",
    "            return False\n",
    "    \n",
    "    if n%2==0:\n",
    "        for i in range(n//2):\n",
    "            if string[i]==string[-i] or (string[i]=='6' and string[-i]=='9') or (string[i]=='9' and string[-i]=='6'):\n",
    "                return True\n",
    "    elif n%2==1:\n",
    "        for i in range((n-1)//2):\n",
    "            if (string[i]==string[-i] or (string[i]=='6' and string[-i]=='9') or (string[i]=='9' and string[-i]=='6')) and string[(n-1)//2]==('0' or '1' or '8'):\n",
    "                return True\n",
    "            \n",
    "    return False\n",
    "# driver code\n",
    "num = '1691'\n",
    "\n",
    "isStrobogrammatic(num)"
   ]
  },
  {
   "cell_type": "markdown",
   "id": "0ca0eea6",
   "metadata": {},
   "source": [
    "<aside>\n",
    "💡 **Question 4**\n",
    "\n",
    "Given a string s, reverse the order of characters in each word within a sentence while still preserving whitespace and initial word order.\n",
    "\n",
    "**Example 1:**\n",
    "\n",
    "**Input:** s = \"Let's take LeetCode contest\"\n",
    "\n",
    "**Output:** \"s'teL ekat edoCteeL tsetnoc\"\n",
    "\n",
    "</aside>"
   ]
  },
  {
   "cell_type": "code",
   "execution_count": 3,
   "id": "078c606d",
   "metadata": {},
   "outputs": [
    {
     "data": {
      "text/plain": [
       "\"s'teL ekat edoCteeL tsetnoc\""
      ]
     },
     "execution_count": 3,
     "metadata": {},
     "output_type": "execute_result"
    }
   ],
   "source": [
    "def revChar(s:str):\n",
    "    s = s.split(' ')\n",
    "    for i in range(len(s)):\n",
    "        s[i] = s[i][::-1]\n",
    "    return ' '.join([char for char in s])\n",
    "\n",
    "# driver code\n",
    "\n",
    "s = \"Let's take LeetCode contest\"\n",
    "revChar(s)"
   ]
  },
  {
   "cell_type": "markdown",
   "id": "bf00828d",
   "metadata": {},
   "source": [
    "<aside>\n",
    "💡 **Question 5**\n",
    "\n",
    "Given a string s and an integer k, reverse the first k characters for every 2k characters counting from the start of the string.\n",
    "\n",
    "If there are fewer than k characters left, reverse all of them. If there are less than 2k but greater than or equal to k characters, then reverse the first k characters and leave the other as original.\n",
    "\n",
    "**Example 1:**\n",
    "\n",
    "**Input:** s = \"abcdefg\", k = 2\n",
    "\n",
    "**Output:**\n",
    "\n",
    "\"bacdfeg\"\n",
    "\n",
    "</aside>"
   ]
  },
  {
   "cell_type": "code",
   "execution_count": 4,
   "id": "4774f4fd",
   "metadata": {},
   "outputs": [
    {
     "data": {
      "text/plain": [
       "'bacdfeg'"
      ]
     },
     "execution_count": 4,
     "metadata": {},
     "output_type": "execute_result"
    }
   ],
   "source": [
    "def revKchar(s:str,k:int):\n",
    "    n = len(s)\n",
    "    result = ''\n",
    "    for i in range(0,n,2*k):\n",
    "        # if fewer than k characters left\n",
    "        if n-(i+1) < k:\n",
    "            s1 = s[i:n]\n",
    "            s2 = s1[::-1]\n",
    "            result = result+s2\n",
    "        # If there are less than 2k but greater than or equal to k characters left   \n",
    "        elif n-(i+1) < 2*k:\n",
    "            s1 = s[i:(i+k)]\n",
    "            s2 = s1[::-1]\n",
    "            s3 = s[(i+k):n]\n",
    "            result = result+s2+s3\n",
    "        else:\n",
    "            s1 = s[i:(i+k)]\n",
    "            s2 = s1[::-1]\n",
    "            s3 = s[(i+k):(i+2*k)]\n",
    "            result = result+s2+s3\n",
    "        \n",
    "    return result\n",
    "\n",
    "# driver code\n",
    "\n",
    "s = \"abcdefg\"\n",
    "k = 2\n",
    "revKchar(s,k)"
   ]
  },
  {
   "cell_type": "markdown",
   "id": "5accb654",
   "metadata": {},
   "source": [
    "<aside>\n",
    "💡 **Question 6**\n",
    "\n",
    "Given two strings s and goal, return true *if and only if* s *can become* goal *after some number of **shifts** on* s.\n",
    "\n",
    "A **shift** on s consists of moving the leftmost character of s to the rightmost position.\n",
    "\n",
    "- For example, if s = \"abcde\", then it will be \"bcdea\" after one shift.\n",
    "\n",
    "**Example 1:**\n",
    "\n",
    "**Input:** s = \"abcde\", goal = \"cdeab\"\n",
    "\n",
    "**Output:**\n",
    "\n",
    "true\n",
    "\n",
    "</aside>"
   ]
  },
  {
   "cell_type": "code",
   "execution_count": 5,
   "id": "e2a4db5b",
   "metadata": {},
   "outputs": [
    {
     "data": {
      "text/plain": [
       "True"
      ]
     },
     "execution_count": 5,
     "metadata": {},
     "output_type": "execute_result"
    }
   ],
   "source": [
    "def isRotation(s,goal):\n",
    "    n = len(s)\n",
    "    m = len(goal)\n",
    "    if m!=n:\n",
    "        return False\n",
    "    \n",
    "    # establishing break point\n",
    "    for i in range(n):\n",
    "        if s[0]==goal[i]:\n",
    "            # checking right side and let side\n",
    "            if goal[i:n]==s[0:(n-i)] and goal[0:i]==s[(n-i):n]:\n",
    "                return True\n",
    "            \n",
    "    return False    \n",
    "\n",
    "# driver code\n",
    "s = \"aacd\"\n",
    "goal = \"acda\"\n",
    "\n",
    "isRotation(s,goal)            "
   ]
  },
  {
   "cell_type": "markdown",
   "id": "cacf2ffa",
   "metadata": {},
   "source": [
    "Given two strings s and t, return true *if they are equal when both are typed into empty text editors*. '#' means a backspace character.\n",
    "\n",
    "Note that after backspacing an empty text, the text will continue empty.\n",
    "\n",
    "**Example 1:**\n",
    "\n",
    "**Input:** s = \"ab#c\", t = \"ad#c\"\n",
    "\n",
    "**Output:** true\n",
    "\n",
    "**Explanation:**\n",
    "\n",
    "Both s and t become \"ac\"."
   ]
  },
  {
   "cell_type": "code",
   "execution_count": 6,
   "id": "c6d87062",
   "metadata": {},
   "outputs": [
    {
     "name": "stdout",
     "output_type": "stream",
     "text": [
      "TRUE\n"
     ]
    }
   ],
   "source": [
    "def removeBackspace(s) -> str:\n",
    "    n = len(s)\n",
    "    # To point at position after considering the backspaces\n",
    "    idx = 0\n",
    "    for i in range(0, n):\n",
    "        if(s[i] != '#'):\n",
    "            s = s[:idx] + s[i] + s[idx+1:]\n",
    "            idx += 1\n",
    "        elif(s[i] == '#' and idx >= 0):\n",
    "            idx -= 1\n",
    "        # This idx can never point at negative index position\n",
    "        if(idx < 0):\n",
    "            idx = 0\n",
    "    ans = \"\"\n",
    "    for i in range(0, idx):\n",
    "        ans += s[i]\n",
    "    return ans\n",
    " \n",
    " \n",
    "# Driver code\n",
    "s = \"ab#c\"\n",
    "t = \"ad#c\"\n",
    "if(removeBackspace(s) == removeBackspace(t)):\n",
    "      print(\"TRUE\")\n",
    "else:\n",
    "    print(\"FALSE\")"
   ]
  },
  {
   "attachments": {},
   "cell_type": "markdown",
   "id": "8c1d3446",
   "metadata": {},
   "source": [
    "<aside>\n",
    "💡 **Question 8**\n",
    "\n",
    "You are given an array coordinates, coordinates[i] = [x, y], where [x, y] represents the coordinate of a point. Check if these points make a straight line in the XY plane.\n",
    "\n",
    "</aside>\n",
    "\n",
    "**Input:** coordinates = [[1,2],[2,3],[3,4],[4,5],[5,6],[6,7]]\n",
    "\n",
    "**Output:** true"
   ]
  },
  {
   "cell_type": "code",
   "execution_count": 7,
   "id": "591fcb29",
   "metadata": {},
   "outputs": [
    {
     "data": {
      "text/plain": [
       "True"
      ]
     },
     "execution_count": 7,
     "metadata": {},
     "output_type": "execute_result"
    }
   ],
   "source": [
    "#For a staright line the slope will be same at all coordinates ie (y2-y1)/(x2-x1) for every pair of  coordinates will be same \n",
    "\n",
    "def isStraightline(arr):\n",
    "    n = len(arr)\n",
    "    \n",
    "    slope = (arr[1][1]-arr[0][1])/(arr[1][0]-arr[0][0])\n",
    "        \n",
    "    for i in range(1,n):\n",
    "        if (arr[i][1]-arr[i-1][1])/(arr[i][0]-arr[i-1][0])==slope:\n",
    "            return True\n",
    "        \n",
    "\n",
    "# driver code\n",
    "coordinates = [[1,2],[2,3],[3,4],[4,5],[5,6],[6,7]]\n",
    "isStraightline(coordinates)"
   ]
  },
  {
   "cell_type": "code",
   "execution_count": null,
   "id": "cda66fd1",
   "metadata": {},
   "outputs": [],
   "source": []
  }
 ],
 "metadata": {
  "kernelspec": {
   "display_name": "Python 3 (ipykernel)",
   "language": "python",
   "name": "python3"
  },
  "language_info": {
   "codemirror_mode": {
    "name": "ipython",
    "version": 3
   },
   "file_extension": ".py",
   "mimetype": "text/x-python",
   "name": "python",
   "nbconvert_exporter": "python",
   "pygments_lexer": "ipython3",
   "version": "3.10.4"
  }
 },
 "nbformat": 4,
 "nbformat_minor": 5
}
