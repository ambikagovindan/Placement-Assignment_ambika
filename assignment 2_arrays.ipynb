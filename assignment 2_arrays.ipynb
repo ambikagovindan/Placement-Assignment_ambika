{
 "cells": [
  {
   "cell_type": "markdown",
   "id": "b400bca5",
   "metadata": {},
   "source": [
    "Question 1\n",
    "Given an integer array nums of 2n integers, group these integers into n pairs (a1, b1), (a2, b2),..., (an, bn) such that the sum of min(ai, bi) for all i is maximized. Return the maximized sum.\n",
    "\n",
    "Example 1:\n",
    "Input: nums = [1,4,3,2]\n",
    "Output: 4"
   ]
  },
  {
   "cell_type": "code",
   "execution_count": 1,
   "id": "0976df36",
   "metadata": {},
   "outputs": [
    {
     "data": {
      "text/plain": [
       "4"
      ]
     },
     "execution_count": 1,
     "metadata": {},
     "output_type": "execute_result"
    }
   ],
   "source": [
    "def pairMinSum(nums:list[int]):\n",
    "    \n",
    "    nums.sort()\n",
    "    n=len(nums)\n",
    "    \n",
    "    result = 0\n",
    "    for i in range(0,n-1,2):\n",
    "        result += nums[i]\n",
    "    return result\n",
    "\n",
    "#driver code\n",
    "\n",
    "arr= [1,4,3,2]\n",
    "\n",
    "pairMinSum(arr)\n",
    "\n",
    "    "
   ]
  },
  {
   "cell_type": "markdown",
   "id": "7fcffe8f",
   "metadata": {},
   "source": [
    "Question 2\n",
    "\n",
    "Alice has n candies, where the ith candy is of type candyType[i]. Alice noticed that she started to gain weight, so she visited a doctor. \n",
    "\n",
    "The doctor advised Alice to only eat n / 2 of the candies she has (n is always even). Alice likes her candies very much, and she wants to eat the maximum number of different types of candies while still following the doctor's advice. \n",
    "\n",
    "Given the integer array candyType of length n, return the maximum number of different types of candies she can eat if she only eats n / 2 of them.\n",
    "\n",
    "Example 1:\n",
    "Input: candyType = [1,1,2,2,3,3]\n",
    "Output: 3\n"
   ]
  },
  {
   "cell_type": "code",
   "execution_count": 3,
   "id": "7652de87",
   "metadata": {},
   "outputs": [
    {
     "data": {
      "text/plain": [
       "3"
      ]
     },
     "execution_count": 3,
     "metadata": {},
     "output_type": "execute_result"
    }
   ],
   "source": [
    "def distributeCandies(candytype:list[int]):\n",
    "    \n",
    "    n = len(candytype)\n",
    "    set_candy = set(candytype)\n",
    "    return(min(n//2,len(set_candy)))\n",
    "\n",
    "#driver code\n",
    "\n",
    "candytype = [1,1,2,2,3,3]\n",
    "distributeCandies(candytype)"
   ]
  },
  {
   "cell_type": "markdown",
   "id": "86786f61",
   "metadata": {},
   "source": [
    "Question 3\n",
    "We define a harmonious array as an array where the difference between its maximum value\n",
    "and its minimum value is exactly 1.\n",
    "\n",
    "Given an integer array nums, return the length of its longest harmonious subsequence\n",
    "among all its possible subsequences.\n",
    "\n",
    "A subsequence of an array is a sequence that can be derived from the array by deleting some or no elements without changing the order of the remaining elements.\n"
   ]
  },
  {
   "cell_type": "code",
   "execution_count": 4,
   "id": "9b1d0095",
   "metadata": {},
   "outputs": [
    {
     "data": {
      "text/plain": [
       "7"
      ]
     },
     "execution_count": 4,
     "metadata": {},
     "output_type": "execute_result"
    }
   ],
   "source": [
    "def maxHarmoniusArray(nums:list[int]):\n",
    "    counts=[]\n",
    "    n = len(nums)\n",
    "    for i in range(n-1):\n",
    "        for j in range(i+1):\n",
    "            if abs(nums[i]-nums[j])==1:\n",
    "                counts.append(nums.count(nums[i])+nums.count(nums[j]))\n",
    "    return(max(counts))\n",
    "\n",
    "#driver code\n",
    "nums = [6,6,6,6,2,2,2,3,3,3,5,5,5]\n",
    "\n",
    "maxHarmoniusArray(nums)\n",
    "            "
   ]
  },
  {
   "cell_type": "markdown",
   "id": "1e8c3fca",
   "metadata": {},
   "source": [
    "Question 4\n",
    "You have a long flowerbed in which some of the plots are planted, and some are not.\n",
    "However, flowers cannot be planted in adjacent plots.\n",
    "Given an integer array flowerbed containing 0's and 1's, where 0 means empty and 1 means not empty, and an integer n, return true if n new flowers can be planted in the flowerbed without violating the no-adjacent-flowers rule and false otherwise.\n",
    "\n",
    "Example 1:\n",
    "Input: flowerbed = [1,0,0,0,1], n = 1\n",
    "Output: true"
   ]
  },
  {
   "cell_type": "code",
   "execution_count": 5,
   "id": "75f664e2",
   "metadata": {},
   "outputs": [
    {
     "data": {
      "text/plain": [
       "True"
      ]
     },
     "execution_count": 5,
     "metadata": {},
     "output_type": "execute_result"
    }
   ],
   "source": [
    "def canPlaceFlower(flowerbed:list[int],n:int):\n",
    "    \n",
    "    count=0\n",
    "    for i in range(len(flowerbed)):\n",
    "        if flowerbed[i] == 0:\n",
    "            empty_left_bed = (i==0) or (flowerbed[i-1]==0)\n",
    "            empty_right_bed = (i==(n-1)) or (flowerbed[i+1]==0)\n",
    "            \n",
    "            if empty_left_bed and empty_right_bed:\n",
    "                flowerbed[i]=1\n",
    "                count =count+1\n",
    "    return count >= n\n",
    "\n",
    "#driver code\n",
    "\n",
    "flowerbed = [1,0,0,0,0,0,0,1]\n",
    "canPlaceFlower(flowerbed,2)"
   ]
  },
  {
   "cell_type": "markdown",
   "id": "624a2da4",
   "metadata": {},
   "source": [
    "Question 5\n",
    "Given an integer array nums, find three numbers whose product is maximum and return the maximum product."
   ]
  },
  {
   "cell_type": "code",
   "execution_count": 6,
   "id": "4274817b",
   "metadata": {},
   "outputs": [
    {
     "data": {
      "text/plain": [
       "1600"
      ]
     },
     "execution_count": 6,
     "metadata": {},
     "output_type": "execute_result"
    }
   ],
   "source": [
    "def maxProduct(nums:list[int]):\n",
    "    n = len(nums)\n",
    "    nums.sort(reverse=True)\n",
    "    # if all numbers are positive or nrgative\n",
    "    product1 = nums[0]*nums[1]*nums[2]\n",
    "    # if both positives and negatives present\n",
    "    product2 = nums[0]*nums[n-1]*nums[n-2]\n",
    "    \n",
    "    return (max(product1,product2))\n",
    "\n",
    "#driver code\n",
    "nums=[2,4,8,-10,-20]\n",
    "maxProduct(nums)"
   ]
  },
  {
   "cell_type": "markdown",
   "id": "9f7d1518",
   "metadata": {},
   "source": [
    "Question 6\n",
    "Given an array of integers nums which is sorted in ascending order, and an integer target,\n",
    "write a function to search target in nums. If target exists, then return its index. Otherwise,\n",
    "return -1.\n",
    "\n",
    "You must write an algorithm with O(log n) runtime complexity.\n",
    "\n",
    "Input: nums = [-1,0,3,5,9,12], target = 9\n",
    "Output: 4\n",
    "\n",
    "Explanation: 9 exists in nums and its index is 4"
   ]
  },
  {
   "cell_type": "code",
   "execution_count": 7,
   "id": "9fe5a93d",
   "metadata": {},
   "outputs": [
    {
     "data": {
      "text/plain": [
       "4"
      ]
     },
     "execution_count": 7,
     "metadata": {},
     "output_type": "execute_result"
    }
   ],
   "source": [
    "def searchTarget(nums:list[int],target:[int]):\n",
    "    n = len(nums)\n",
    "    for i in range(n):\n",
    "        if nums[i]==target:\n",
    "            return i\n",
    "    return -1\n",
    "\n",
    "nums = [-1,0,3,5,9,12]\n",
    "target = 9\n",
    "\n",
    "searchTarget(nums,target)"
   ]
  },
  {
   "cell_type": "markdown",
   "id": "2baf5646",
   "metadata": {},
   "source": [
    "Question 7\n",
    "An array is monotonic if it is either monotone increasing or monotone decreasing.\n",
    "\n",
    "An array nums is monotone increasing if for all i <= j, nums[i] <= nums[j]. An array nums is\n",
    "monotone decreasing if for all i <= j, nums[i] >= nums[j].\n",
    "\n",
    "Given an integer array nums, return true if the given array is monotonic, or false otherwise.\n",
    "\n",
    "Example 1:\n",
    "Input: nums = [1,2,2,3]\n",
    "Output: true"
   ]
  },
  {
   "cell_type": "code",
   "execution_count": 8,
   "id": "432f4dfa",
   "metadata": {},
   "outputs": [
    {
     "data": {
      "text/plain": [
       "True"
      ]
     },
     "execution_count": 8,
     "metadata": {},
     "output_type": "execute_result"
    }
   ],
   "source": [
    "def isMonotonic(nums:list[int]):\n",
    "    n = len(nums)\n",
    "    inc = True\n",
    "    dec = True\n",
    "    \n",
    "    # Loop to check if array is increasing\n",
    "    for i in range(n-1):\n",
    "        if nums[i] > nums[i+1]:\n",
    "            inc = False\n",
    "        \n",
    "    # Loop to check if array is decreasing        \n",
    "    for i in range(n-1):\n",
    "        if nums[i] < nums[i+1]:\n",
    "            dec = False\n",
    "    return inc or dec \n",
    "\n",
    "#driver code\n",
    "\n",
    "nums = [1,2,2,3]\n",
    "isMonotonic(nums)"
   ]
  },
  {
   "cell_type": "markdown",
   "id": "2cf64c50",
   "metadata": {},
   "source": [
    "Question 8\n",
    "You are given an integer array nums and an integer k.\n",
    "\n",
    "In one operation, you can choose any index i where 0 <= i < nums.length and change nums[i] to nums[i] + x where x is an integer from the range [-k, k]. You can apply this operation at most once for each index i.\n",
    "\n",
    "The score of nums is the difference between the maximum and minimum elements in nums.\n",
    "\n",
    "Return the minimum score of nums after applying the mentioned operation at most once for each index in it.\n",
    "\n",
    "Example 1:\n",
    "Input: nums = [1], k = 0\n",
    "Output: 0\n",
    "\n",
    "Explanation: The score is max(nums) - min(nums) = 1 - 1 = 0."
   ]
  },
  {
   "cell_type": "code",
   "execution_count": 9,
   "id": "087fea3f",
   "metadata": {},
   "outputs": [
    {
     "data": {
      "text/plain": [
       "3"
      ]
     },
     "execution_count": 9,
     "metadata": {},
     "output_type": "execute_result"
    }
   ],
   "source": [
    "def smallestRangeI(A: list[int], K: int) -> int:\n",
    "\n",
    "    M, m = max(A), min(A)\n",
    "    diff, extension = M - m, 2*K\n",
    "        \n",
    "    if diff <= extension:\n",
    "        return 0\n",
    "        \n",
    "    else:\n",
    "        return diff - extension\n",
    "    \n",
    "#driver code\n",
    "\n",
    "nums = [1,3,10]\n",
    "k = 3\n",
    "\n",
    "smallestRangeI(nums,k)"
   ]
  },
  {
   "cell_type": "code",
   "execution_count": null,
   "id": "8a4828c8",
   "metadata": {},
   "outputs": [],
   "source": []
  }
 ],
 "metadata": {
  "kernelspec": {
   "display_name": "Python 3 (ipykernel)",
   "language": "python",
   "name": "python3"
  },
  "language_info": {
   "codemirror_mode": {
    "name": "ipython",
    "version": 3
   },
   "file_extension": ".py",
   "mimetype": "text/x-python",
   "name": "python",
   "nbconvert_exporter": "python",
   "pygments_lexer": "ipython3",
   "version": "3.10.4"
  }
 },
 "nbformat": 4,
 "nbformat_minor": 5
}
