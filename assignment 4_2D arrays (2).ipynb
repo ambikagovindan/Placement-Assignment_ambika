{
 "cells": [
  {
   "cell_type": "markdown",
   "id": "bb062e9b",
   "metadata": {},
   "source": [
    "\n",
    "**Question 1**\n",
    "Given three integer arrays arr1, arr2 and arr3 **sorted** in **strictly increasing** order, return a sorted array of **only** the integers that appeared in **all** three arrays.\n",
    "\n",
    "**Example 1:**\n",
    "\n",
    "Input: arr1 = [1,2,3,4,5], arr2 = [1,2,5,7,9], arr3 = [1,3,4,5,8]\n",
    "\n",
    "Output: [1,5]\n",
    "\n",
    "**Explanation:** Only 1 and 5 appeared in the three arrays.\n"
   ]
  },
  {
   "cell_type": "code",
   "execution_count": 1,
   "id": "6045e3cb",
   "metadata": {},
   "outputs": [
    {
     "data": {
      "text/plain": [
       "[1, 5]"
      ]
     },
     "execution_count": 1,
     "metadata": {},
     "output_type": "execute_result"
    }
   ],
   "source": [
    "def arrComonInt(arr1:list[int],arr2:list[int],arr3:list[int]):\n",
    "    \n",
    "    arr4 = []\n",
    "    \n",
    "    for i in arr1:\n",
    "        if i in arr2 and i in arr3:\n",
    "            arr4.append(i)\n",
    "    arr4.sort()            \n",
    "    return arr4\n",
    "\n",
    "# driver code\n",
    "arr1 = [1,2,3,4,5]\n",
    "arr2 = [1,2,5,7,9]\n",
    "arr3 = [1,3,4,5,8]\n",
    "\n",
    "arrComonInt(arr1,arr2,arr3)"
   ]
  },
  {
   "cell_type": "markdown",
   "id": "9a7dbe49",
   "metadata": {},
   "source": [
    "<aside>\n",
    "💡 **Question 2**\n",
    "\n",
    "Given two **0-indexed** integer arrays nums1 and nums2, return *a list* answer *of size* 2 *where:*\n",
    "\n",
    "- answer[0] *is a list of all **distinct** integers in* nums1 *which are **not** present in* nums2*.*\n",
    "- answer[1] *is a list of all **distinct** integers in* nums2 *which are **not** present in* nums1.\n",
    "\n",
    "**Note** that the integers in the lists may be returned in **any** order.\n",
    "\n",
    "**Example 1:**\n",
    "\n",
    "**Input:** nums1 = [1,2,3], nums2 = [2,4,6]\n",
    "\n",
    "**Output:** [[1,3],[4,6]]\n",
    "\n",
    "**Explanation:**\n",
    "\n",
    "For nums1, nums1[1] = 2 is present at index 0 of nums2, whereas nums1[0] = 1 and nums1[2] = 3 are not present in nums2. Therefore, answer[0] = [1,3].\n",
    "\n",
    "For nums2, nums2[0] = 2 is present at index 1 of nums1, whereas nums2[1] = 4 and nums2[2] = 6 are not present in nums2. Therefore, answer[1] = [4,6].\n",
    "\n",
    "</aside>"
   ]
  },
  {
   "cell_type": "code",
   "execution_count": 2,
   "id": "c0a65c86",
   "metadata": {},
   "outputs": [
    {
     "data": {
      "text/plain": [
       "[[1, 3], [4, 6]]"
      ]
     },
     "execution_count": 2,
     "metadata": {},
     "output_type": "execute_result"
    }
   ],
   "source": [
    "def find_difference(arr1:list[int],arr2:list[int]):\n",
    "    ans_0 = []\n",
    "    ans_1 = []\n",
    "    \n",
    "    for i in arr1:\n",
    "        if i not in arr2:\n",
    "            ans_0.append(i)\n",
    "    for j in arr2:\n",
    "        if j not in arr1:\n",
    "            ans_1.append(j)\n",
    "            \n",
    "    return ([list(set(ans_0)),list(set(ans_1))]) \n",
    "\n",
    "#drivr code\n",
    "nums1 = [1,2,3,3]\n",
    "nums2 = [2,4,6,4]\n",
    "\n",
    "find_difference(nums1,nums2)"
   ]
  },
  {
   "cell_type": "markdown",
   "id": "7c2c78c2",
   "metadata": {},
   "source": [
    "<aside>\n",
    "💡 **Question 3**\n",
    "Given a 2D integer array matrix, return *the **transpose** of* matrix.\n",
    "\n",
    "The **transpose** of a matrix is the matrix flipped over its main diagonal, switching the matrix's row and column indices.\n",
    "\n",
    "**Example 1:**\n",
    "\n",
    "Input: matrix = [[1,2,3],[4,5,6],[7,8,9]]\n",
    "\n",
    "Output: [[1,4,7],[2,5,8],[3,6,9]]\n",
    "\n",
    "</aside>"
   ]
  },
  {
   "cell_type": "code",
   "execution_count": 3,
   "id": "6694d01a",
   "metadata": {},
   "outputs": [
    {
     "data": {
      "text/plain": [
       "[[1, 4, 7], [2, 5, 8], [3, 6, 9]]"
      ]
     },
     "execution_count": 3,
     "metadata": {},
     "output_type": "execute_result"
    }
   ],
   "source": [
    "def transpose_matrix(matrix:list):\n",
    "    for i in range(len(matrix)):\n",
    "        for j in range(i+1,len(matrix[i])):\n",
    "            matrix[i][j],matrix[j][i] = matrix[j][i],matrix[i][j]\n",
    "            \n",
    "    return matrix\n",
    "\n",
    "# driver code\n",
    "matrix = [[1,2,3],[4,5,6],[7,8,9]]\n",
    "transpose_matrix(matrix)"
   ]
  },
  {
   "cell_type": "markdown",
   "id": "dde96a3c",
   "metadata": {},
   "source": [
    "<aside>\n",
    "💡 **Question 4**\n",
    "Given an integer array nums of 2n integers, group these integers into n pairs (a1, b1), (a2, b2), ..., (an, bn) such that the sum of min(ai, bi) for all i is **maximized**. Return *the maximized sum*.\n",
    "\n",
    "**Example 1:**\n",
    "\n",
    "Input: nums = [1,4,3,2]\n",
    "\n",
    "Output: 4\n",
    "\n",
    "**Explanation:** All possible pairings (ignoring the ordering of elements) are:\n",
    "\n",
    "1. (1, 4), (2, 3) -> min(1, 4) + min(2, 3) = 1 + 2 = 3\n",
    "\n",
    "2. (1, 3), (2, 4) -> min(1, 3) + min(2, 4) = 1 + 2 = 3\n",
    "\n",
    "3. (1, 2), (3, 4) -> min(1, 2) + min(3, 4) = 1 + 3 = 4\n",
    "\n",
    "So the maximum possible sum is 4.\n",
    "\n",
    "</aside>"
   ]
  },
  {
   "cell_type": "code",
   "execution_count": 4,
   "id": "da2c8b88",
   "metadata": {},
   "outputs": [
    {
     "data": {
      "text/plain": [
       "4"
      ]
     },
     "execution_count": 4,
     "metadata": {},
     "output_type": "execute_result"
    }
   ],
   "source": [
    "def pairMinSum(nums:list[int]):\n",
    "    \n",
    "    nums.sort()\n",
    "    n=len(nums)\n",
    "    \n",
    "    result = 0\n",
    "    for i in range(0,n-1,2):\n",
    "        result += nums[i]\n",
    "    return result\n",
    "\n",
    "#driver code\n",
    "\n",
    "arr= [1,4,3,2]\n",
    "\n",
    "pairMinSum(arr)"
   ]
  },
  {
   "cell_type": "markdown",
   "id": "35121666",
   "metadata": {},
   "source": [
    "<aside>\n",
    "💡 **Question 5**\n",
    "You have n coins and you want to build a staircase with these coins. The staircase consists of k rows where the ith row has exactly i coins. The last row of the staircase **may be** incomplete.\n",
    "\n",
    "Given the integer n, return *the number of **complete rows** of the staircase you will build*.\n",
    "\n",
    "</aside>"
   ]
  },
  {
   "cell_type": "code",
   "execution_count": 5,
   "id": "f7e4b051",
   "metadata": {},
   "outputs": [
    {
     "data": {
      "text/plain": [
       "6"
      ]
     },
     "execution_count": 5,
     "metadata": {},
     "output_type": "execute_result"
    }
   ],
   "source": [
    "def lenStaircase(n:int):\n",
    "    k = 0\n",
    "    lower = 1\n",
    "    upper = n+1\n",
    "    for i in range(lower,upper):\n",
    "        k = k+1\n",
    "        lower = i+1\n",
    "        upper = upper-i\n",
    "        \n",
    "        if upper-lower <= 0:\n",
    "            break\n",
    "        \n",
    "        \n",
    "    return k \n",
    "# driver code\n",
    "n = 22\n",
    "lenStaircase(n)"
   ]
  },
  {
   "cell_type": "markdown",
   "id": "5290e1b0",
   "metadata": {},
   "source": [
    "<aside>\n",
    "💡 **Question 6**\n",
    "Given an integer array nums sorted in **non-decreasing** order, return *an array of **the squares of each number** sorted in non-decreasing order*.\n",
    "\n",
    "**Example 1:**\n",
    "\n",
    "Input: nums = [-4,-1,0,3,10]\n",
    "\n",
    "Output: [0,1,9,16,100]\n",
    "\n",
    "**Explanation:** After squaring, the array becomes [16,1,0,9,100].\n",
    "After sorting, it becomes [0,1,9,16,100]\n",
    "\n",
    "</aside>"
   ]
  },
  {
   "cell_type": "code",
   "execution_count": 6,
   "id": "09103493",
   "metadata": {},
   "outputs": [
    {
     "data": {
      "text/plain": [
       "[0, 1, 9, 16, 100]"
      ]
     },
     "execution_count": 6,
     "metadata": {},
     "output_type": "execute_result"
    }
   ],
   "source": [
    "def sortedSquare(nums:list[int]):\n",
    "    for i in range(len(nums)):\n",
    "        nums[i] = nums[i]**2\n",
    "    nums.sort()    \n",
    "    return nums\n",
    "\n",
    "# driver code:\n",
    "nums = [-4,-1,0,3,10]\n",
    "sortedSquare(nums)"
   ]
  },
  {
   "cell_type": "markdown",
   "id": "c296bcff",
   "metadata": {},
   "source": [
    "<aside>\n",
    "💡 **Question 7**\n",
    "You are given an m x n matrix M initialized with all 0's and an array of operations ops, where ops[i] = [ai, bi] means M[x][y] should be incremented by one for all 0 <= x < ai and 0 <= y < bi.\n",
    "\n",
    "Count and return *the number of maximum integers in the matrix after performing all the operations*\n",
    "    \n",
    "**Example 1:**\n",
    "\n",
    "**Input:** m = 3, n = 3, ops = [[2,2],[3,3]]\n",
    "\n",
    "**Output:** 4\n",
    "\n",
    "**Explanation:** The maximum integer in M is 2, and there are four of it in M. So return 4.    \n",
    "\n",
    "</aside>"
   ]
  },
  {
   "cell_type": "code",
   "execution_count": 7,
   "id": "b4dc49ee",
   "metadata": {},
   "outputs": [
    {
     "data": {
      "text/plain": [
       "4"
      ]
     },
     "execution_count": 7,
     "metadata": {},
     "output_type": "execute_result"
    }
   ],
   "source": [
    "import numpy as np\n",
    "def countMaxMatrix(m,n,ops):\n",
    "    matrix = np.zeros((m,n),dtype='int')\n",
    "    \n",
    "    for x in range(m):\n",
    "        for y in range(n):\n",
    "            for k in range(len(ops)):\n",
    "                if 0 <= x < ops[k][0] and 0 <= y < ops[k][1]:\n",
    "                    matrix[x][y] = matrix[x][y]+1\n",
    "    matrix = list(matrix.reshape(-1))\n",
    "    \n",
    "    result = matrix.count(max(matrix))\n",
    "    \n",
    "    return result\n",
    "\n",
    "# driver code\n",
    "m = 3\n",
    "n = 3\n",
    "ops = [[2,2],[3,3]]\n",
    "\n",
    "countMaxMatrix(m,n,ops)"
   ]
  },
  {
   "cell_type": "markdown",
   "id": "4ddce124",
   "metadata": {},
   "source": [
    "<aside>\n",
    "💡 **Question 8**\n",
    "\n",
    "Given the array nums consisting of 2n elements in the form [x1,x2,...,xn,y1,y2,...,yn].\n",
    "\n",
    "*Return the array in the form* [x1,y1,x2,y2,...,xn,yn].\n",
    "\n",
    "**Example 1:**\n",
    "\n",
    "**Input:** nums = [2,5,1,3,4,7], n = 3\n",
    "\n",
    "**Output:** [2,3,5,4,1,7]\n",
    "\n",
    "**Explanation:** Since x1=2, x2=5, x3=1, y1=3, y2=4, y3=7 then the answer is [2,3,5,4,1,7].\n",
    "\n",
    "</aside>"
   ]
  },
  {
   "cell_type": "code",
   "execution_count": 8,
   "id": "708b61bc",
   "metadata": {},
   "outputs": [
    {
     "data": {
      "text/plain": [
       "array([2, 3, 5, 4, 1, 7])"
      ]
     },
     "execution_count": 8,
     "metadata": {},
     "output_type": "execute_result"
    }
   ],
   "source": [
    "import numpy as np\n",
    "def swapArray(nums:list[int]):\n",
    "    n = len(nums)\n",
    "    nums = np.array(nums).reshape(2,-1)\n",
    "    nums1 = nums[0]\n",
    "    nums2 = nums[1]\n",
    "    arr = []\n",
    "    for i in range(n//2):\n",
    "        arr.append([nums1[i],nums2[i]])\n",
    "        \n",
    "    return np.array(arr).reshape(-1)\n",
    "        \n",
    "nums = nums = [2,5,1,3,4,7]    \n",
    "swapArray(nums)    "
   ]
  },
  {
   "cell_type": "code",
   "execution_count": null,
   "id": "78f06ea5",
   "metadata": {},
   "outputs": [],
   "source": []
  }
 ],
 "metadata": {
  "kernelspec": {
   "display_name": "Python 3 (ipykernel)",
   "language": "python",
   "name": "python3"
  },
  "language_info": {
   "codemirror_mode": {
    "name": "ipython",
    "version": 3
   },
   "file_extension": ".py",
   "mimetype": "text/x-python",
   "name": "python",
   "nbconvert_exporter": "python",
   "pygments_lexer": "ipython3",
   "version": "3.10.4"
  }
 },
 "nbformat": 4,
 "nbformat_minor": 5
}
