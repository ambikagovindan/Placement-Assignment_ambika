{
 "cells": [
  {
   "cell_type": "markdown",
   "id": "dd18e3b7",
   "metadata": {},
   "source": [
    "Implement a stack using a list in Python. Include the necessary methods such as push, pop, and isEmpty."
   ]
  },
  {
   "cell_type": "code",
   "execution_count": 14,
   "id": "7221e4f9",
   "metadata": {},
   "outputs": [
    {
     "name": "stdout",
     "output_type": "stream",
     "text": [
      "Initial stack\n",
      "['a', 'b', 'c']\n",
      "\n",
      "Elements popped from stack:\n",
      "c\n",
      "b\n",
      "a\n",
      "\n",
      "Stack after elements are popped:\n",
      "[]\n",
      "\n",
      "Stack isEmpty:\n",
      "True\n"
     ]
    }
   ],
   "source": [
    "stack = []\n",
    " \n",
    "# append() function to push\n",
    "# element in the stack\n",
    "stack.append('a')\n",
    "stack.append('b')\n",
    "stack.append('c')\n",
    " \n",
    "print('Initial stack')\n",
    "print(stack)\n",
    " \n",
    "# pop() function to pop\n",
    "# element from stack in\n",
    "# LIFO order\n",
    "print('\\nElements popped from stack:')\n",
    "print(stack.pop())\n",
    "print(stack.pop())\n",
    "print(stack.pop())\n",
    " \n",
    "print('\\nStack after elements are popped:')\n",
    "print(stack)\n",
    "print('\\nStack isEmpty:')\n",
    "print(len(stack)==0)\n",
    "\n",
    "        "
   ]
  },
  {
   "cell_type": "markdown",
   "id": "4619f157",
   "metadata": {},
   "source": [
    "Implement a queue using a list in Python. Include the necessary methods such as enqueue, dequeue, and isEmpty.\n",
    "5 points\n"
   ]
  },
  {
   "cell_type": "code",
   "execution_count": 16,
   "id": "53ebe391",
   "metadata": {},
   "outputs": [
    {
     "name": "stdout",
     "output_type": "stream",
     "text": [
      "Initial queue\n",
      "['a', 'b', 'c']\n",
      "\n",
      "Elements dequeued from queue\n",
      "a\n",
      "b\n",
      "c\n",
      "\n",
      "Queue after removing elements\n",
      "[]\n",
      "\n",
      "que isEmpty:\n",
      "True\n"
     ]
    }
   ],
   "source": [
    "# Initializing a queue\n",
    "queue = []\n",
    "  \n",
    "# Adding elements to the queue\n",
    "queue.append('a')\n",
    "queue.append('b')\n",
    "queue.append('c')\n",
    "  \n",
    "print(\"Initial queue\")\n",
    "print(queue)\n",
    "  \n",
    "# Removing elements from the queue\n",
    "print(\"\\nElements dequeued from queue\")\n",
    "print(queue.pop(0))\n",
    "print(queue.pop(0))\n",
    "print(queue.pop(0))\n",
    "\n",
    "  \n",
    "print(\"\\nQueue after removing elements\")\n",
    "print(queue)\n",
    "\n",
    "print('\\nque isEmpty:')\n",
    "print(len(queue)==0)\n",
    "  \n"
   ]
  },
  {
   "cell_type": "code",
   "execution_count": null,
   "id": "2b309597",
   "metadata": {},
   "outputs": [],
   "source": []
  }
 ],
 "metadata": {
  "kernelspec": {
   "display_name": "Python 3 (ipykernel)",
   "language": "python",
   "name": "python3"
  },
  "language_info": {
   "codemirror_mode": {
    "name": "ipython",
    "version": 3
   },
   "file_extension": ".py",
   "mimetype": "text/x-python",
   "name": "python",
   "nbconvert_exporter": "python",
   "pygments_lexer": "ipython3",
   "version": "3.10.4"
  }
 },
 "nbformat": 4,
 "nbformat_minor": 5
}
