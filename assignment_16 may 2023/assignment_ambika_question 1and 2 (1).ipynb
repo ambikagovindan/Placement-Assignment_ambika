{
 "cells": [
  {
   "cell_type": "markdown",
   "id": "889d25e2",
   "metadata": {},
   "source": [
    "Question 1: -\n",
    "Write a program that takes a string as input, and counts the frequency of each word in the string, there might\n",
    "be repeated characters in the string. Your task is to find the highest frequency and returns the length of the\n",
    "highest-frequency word.\n",
    "\n",
    "Note - You have to write at least 2 additional test cases in which your program will run successfully and provide\n",
    "an explanation for the same.\n",
    "Example input - string = “write write write all the number from from from 1 to 100”\n",
    "Example output - 5\n",
    "Explanation - From the given string we can note that the most frequent words are “write” and “from” and\n",
    "the maximum value of both the values is “write” and its corresponding length is 5"
   ]
  },
  {
   "cell_type": "code",
   "execution_count": 1,
   "id": "4f70058a",
   "metadata": {},
   "outputs": [
    {
     "data": {
      "text/plain": [
       "5"
      ]
     },
     "execution_count": 1,
     "metadata": {},
     "output_type": "execute_result"
    }
   ],
   "source": [
    "def len_high_freq_word(test_string):\n",
    "    # split the string by space to get words\n",
    "    max_count = 0\n",
    "    words = test_string.split(' ')\n",
    "    \n",
    "    # creating a dictionary with each word and its count\n",
    "    word_dict = {}\n",
    "    for word in words:\n",
    "        if word in word_dict:\n",
    "            word_dict[word] += 1\n",
    "        else:\n",
    "            word_dict[word] = 1\n",
    "          \n",
    "    # finding the high frequency       \n",
    "    max_count = 0        \n",
    "    for x,y in word_dict.items():\n",
    "        if y >= max_count:\n",
    "            max_count = y\n",
    "            \n",
    "            \n",
    "    # creating a list of high freq words\n",
    "    high_freq_words = [x for x,y in word_dict.items() if y == max_count]\n",
    "    \n",
    "    # finding the length of largest word\n",
    "    max_length = 0\n",
    "    \n",
    "    for word in high_freq_words:\n",
    "        \n",
    "        if len(word) >= max_length:\n",
    "            max_length = len(word)\n",
    "            \n",
    "           \n",
    "    return max_length        \n",
    "      \n",
    "\n",
    "# driver code\n",
    "\n",
    "test_string = 'write write write all the number from from from 1 to 100'\n",
    "\n",
    "len_high_freq_word(test_string)"
   ]
  },
  {
   "cell_type": "markdown",
   "id": "c6eb177d",
   "metadata": {},
   "source": [
    "Question 2: -\n",
    "Consider a string to be valid if all characters of the string appear the same number of times. It is also valid if\n",
    "he can remove just one character at the index in the string, and the remaining characters will occur the same\n",
    "number of times. Given a string, determine if it is valid. If so, return YES , otherwise return NO .\n"
   ]
  },
  {
   "cell_type": "code",
   "execution_count": 2,
   "id": "5292f83f",
   "metadata": {},
   "outputs": [
    {
     "data": {
      "text/plain": [
       "'Yes'"
      ]
     },
     "execution_count": 2,
     "metadata": {},
     "output_type": "execute_result"
    }
   ],
   "source": [
    "'''There are 3 possibilities for the string to be valid\n",
    "1: all characters appear same number of times\n",
    "2: one character appears only one time and all other characters appears n number of times\n",
    "3:one character appears n+1 times and all other characters appears n times\n",
    "\n",
    "\n",
    "'''\n",
    "\n",
    "def ValidString(test_string):\n",
    "    # creating a dictionary of characters with its counts\n",
    "    char_dict = {}\n",
    "    for char in test_string:\n",
    "        char_dict[char] = test_string.count(char)\n",
    "        \n",
    "    # creating a list of all counts\n",
    "    counts_list = [x for x in char_dict.values()]\n",
    "    \n",
    "    # creating a dictionary of each count and number of times that count appeared\n",
    "    count_times_dict = {}\n",
    "    for counts in counts_list:\n",
    "        count_times_dict[counts] = counts_list.count(counts)\n",
    "        \n",
    "        \n",
    "    # changing dictionary to a list of tuples and sorting the list by first element\n",
    "    count_times = list(count_times_dict.items())\n",
    "    count_times.sort(key = lambda x:x[0])\n",
    "    \n",
    "    #if all characters appear same number of times\n",
    "    if len(count_times)==1:\n",
    "        result = \"Yes\"\n",
    "    elif len(count_times)==2:\n",
    "        #if one character appears only one time and all other characters appears n number of times\n",
    "        if count_times[0] == (1,1):\n",
    "            result = 'Yes'\n",
    "        #if one character appears n+1 times and all other characters appears n times    \n",
    "        elif (count_times[1][0] == count_times[0][0]+1) and (count_times[1][1] == 1):\n",
    "            result = 'Yes'\n",
    "        else:\n",
    "            result = 'No'\n",
    "    elif len(count_times) > 2:\n",
    "        result = 'No'\n",
    "        \n",
    "        \n",
    "    return result\n",
    "\n",
    "\n",
    "# driver code\n",
    "test_string = 'abcc'\n",
    "ValidString(test_string)"
   ]
  },
  {
   "cell_type": "code",
   "execution_count": null,
   "id": "aa2fc79b",
   "metadata": {},
   "outputs": [],
   "source": []
  }
 ],
 "metadata": {
  "kernelspec": {
   "display_name": "Python 3 (ipykernel)",
   "language": "python",
   "name": "python3"
  },
  "language_info": {
   "codemirror_mode": {
    "name": "ipython",
    "version": 3
   },
   "file_extension": ".py",
   "mimetype": "text/x-python",
   "name": "python",
   "nbconvert_exporter": "python",
   "pygments_lexer": "ipython3",
   "version": "3.10.4"
  }
 },
 "nbformat": 4,
 "nbformat_minor": 5
}
