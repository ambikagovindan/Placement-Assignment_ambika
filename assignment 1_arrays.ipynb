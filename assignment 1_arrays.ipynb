{
 "cells": [
  {
   "cell_type": "markdown",
   "id": "45212be5",
   "metadata": {},
   "source": [
    "\n",
    " **Q1.** Given an array of integers nums and an integer target, return indices of the two numbers such that they add up to target.\n",
    "\n",
    "You may assume that each input would have exactly one solution, and you may not use the same element twice.\n",
    "\n",
    "You can return the answer in any order.\n",
    "\n",
    "**Example:**\n",
    "Input: nums = [2,7,11,15], target = 9\n",
    "Output0 [0,1]\n",
    "\n",
    "**Explanation:** Because nums[0] + nums[1] == 9, we return [0, 1][\n",
    "\n",
    "</aside>"
   ]
  },
  {
   "cell_type": "code",
   "execution_count": 14,
   "id": "5215b6c4",
   "metadata": {},
   "outputs": [
    {
     "data": {
      "text/plain": [
       "(0, 1)"
      ]
     },
     "execution_count": 14,
     "metadata": {},
     "output_type": "execute_result"
    }
   ],
   "source": [
    "def findIndices(nums:list[int],target:int):\n",
    "    \n",
    "    n = len(nums)\n",
    "    for i in range(0,n):\n",
    "        for j in range(i+1,n):\n",
    "            if nums[i] + nums[j] == target:\n",
    "                return i,j\n",
    "            \n",
    "# driver code            \n",
    "nums = [2,7,11,15]\n",
    "target = 9\n",
    "\n",
    "findIndices(nums,target)"
   ]
  },
  {
   "cell_type": "markdown",
   "id": "de6d477d",
   "metadata": {},
   "source": [
    " **Q2.** Given an integer array nums and an integer val, remove all occurrences of val in nums in-place. The order of the elements may be changed. Then return the number of elements in nums which are not equal to val.\n",
    "\n",
    "Consider the number of elements in nums which are not equal to val be k, to get accepted, you need to do the following things:\n",
    "\n",
    "- Change the array nums such that the first k elements of nums contain the elements which are not equal to val. The remaining elements of nums are not important as well as the size of nums.\n",
    "- Return k.\n",
    "\n",
    "**Example :**\n",
    "Input: nums = [3,2,2,3], val = 3\n",
    "Output: 2, nums = [2,2,__,__]\n",
    "\n",
    "**Explanation:** Your function should return k = 2, with the first two elements of nums being 2. It does not matter what you leave beyond the returned k (hence they are underscores)\n"
   ]
  },
  {
   "cell_type": "code",
   "execution_count": 29,
   "id": "5d6bff22",
   "metadata": {},
   "outputs": [
    {
     "data": {
      "text/plain": [
       "3"
      ]
     },
     "execution_count": 29,
     "metadata": {},
     "output_type": "execute_result"
    }
   ],
   "source": [
    "def removeElement(nums:list[int], val:int):\n",
    "    \n",
    "    k = 0\n",
    "    for i in range(len(nums)):\n",
    "        if nums[i] != val:\n",
    "            nums[k] = nums[i]\n",
    "            k += 1\n",
    "\n",
    "    return k\n",
    "\n",
    "# driver code\n",
    "x = [3,2,2,3,3]\n",
    "y = 2\n",
    "removeElement(x,y)\n"
   ]
  },
  {
   "cell_type": "markdown",
   "id": "01471046",
   "metadata": {},
   "source": [
    "<aside>\n",
    " **Q3.** Given a sorted array of distinct integers and a target value, return the index if the target is found. If not, return the index where it would be if it were inserted in order.\n",
    "\n",
    "You must write an algorithm with O(log n) runtime complexity.\n",
    "\n",
    "**Example 1:**\n",
    "Input: nums = [1,3,5,6], target = 5\n",
    "\n",
    "Output: 2\n"
   ]
  },
  {
   "cell_type": "code",
   "execution_count": 52,
   "id": "8ae0635d",
   "metadata": {},
   "outputs": [
    {
     "name": "stdout",
     "output_type": "stream",
     "text": [
      "2\n"
     ]
    }
   ],
   "source": [
    "def find_index(arr,target):\n",
    "    n = len(arr)\n",
    " \n",
    "    # Lower and upper bounds\n",
    "    start = 0\n",
    "    end = n - 1\n",
    " \n",
    "    \n",
    "    while start<= end:\n",
    " \n",
    "        mid =(start + end)//2\n",
    " \n",
    "        if arr[mid] == K:\n",
    "            return mid\n",
    " \n",
    "        elif arr[mid] < K:\n",
    "            start = mid + 1\n",
    "        else:\n",
    "            end = mid-1\n",
    " \n",
    "    # Return the insert position\n",
    "    return end + 1\n",
    " \n",
    "# Driver Code\n",
    "arr = [1, 3, 5, 6]\n",
    "K =4\n",
    "print(find_index(arr, K))"
   ]
  },
  {
   "cell_type": "markdown",
   "id": "9184164f",
   "metadata": {},
   "source": [
    " **Q4.** You are given a large integer represented as an integer array digits, where each digits[i] is the ith digit of the integer. The digits are ordered from most significant to least significant in left-to-right order. The large integer does not contain any leading 0's.\n",
    "\n",
    "Increment the large integer by one and return the resulting array of digits.\n",
    "\n",
    "**Example 1:**\n",
    "Input: digits = [1,2,3]\n",
    "Output: [1,2,4]\n",
    "\n",
    "**Explanation:** The array represents the integer 123.\n",
    "\n",
    "Incrementing by one gives 123 + 1 = 124.\n",
    "Thus, the result should be [1,2,4].\n"
   ]
  },
  {
   "cell_type": "code",
   "execution_count": 65,
   "id": "0c2a4772",
   "metadata": {},
   "outputs": [
    {
     "data": {
      "text/plain": [
       "[9, 9, 9, 9, 0]"
      ]
     },
     "execution_count": 65,
     "metadata": {},
     "output_type": "execute_result"
    }
   ],
   "source": [
    "def plusOne( digits: list[int]):\n",
    "    n = len(digits)\n",
    "    for i in range(n - 1, -1, -1):\n",
    "        digits[i] += 1\n",
    "        digits[i] %= 10\n",
    "        if digits[i] != 0:\n",
    "            return digits\n",
    "    return [1] + digits\n",
    "\n",
    "#driver code\n",
    "\n",
    "arr = [9,9,9,8,9]\n",
    "plusOne(arr)"
   ]
  },
  {
   "cell_type": "markdown",
   "id": "72b16df0",
   "metadata": {},
   "source": [
    "<aside>\n",
    " **Q5.** You are given two integer arrays nums1 and nums2, sorted in non-decreasing order, and two integers m and n, representing the number of elements in nums1 and nums2 respectively.\n",
    "\n",
    "Merge nums1 and nums2 into a single array sorted in non-decreasing order.\n",
    "\n",
    "The final sorted array should not be returned by the function, but instead be stored inside the array nums1. To accommodate this, nums1 has a length of m + n, where the first m elements denote the elements that should be merged, and the last n elements are set to 0 and should be ignored. nums2 has a length of n.\n",
    "\n",
    "**Example 1:**\n",
    "Input: nums1 = [1,2,3,0,0,0], m = 3, nums2 = [2,5,6], n = 3\n",
    "Output: [1,2,2,3,5,6]\n",
    "\n",
    "**Explanation:** The arrays we are merging are [1,2,3] and [2,5,6].\n",
    "The result of the merge is [1,2,2,3,5,6] with the underlined elements coming from nums1.\n",
    "\n",
    "</aside>"
   ]
  },
  {
   "cell_type": "code",
   "execution_count": 79,
   "id": "feba0673",
   "metadata": {},
   "outputs": [
    {
     "data": {
      "text/plain": [
       "[1, 2, 2, 3, 5, 6]"
      ]
     },
     "execution_count": 79,
     "metadata": {},
     "output_type": "execute_result"
    }
   ],
   "source": [
    "def mergeArrays(nums1:list[int],nums2:list[int],m:int,n:int):\n",
    "    nums1 = nums1[0:m]\n",
    "    nums2 = nums2[0:n]\n",
    "    \n",
    "    result = sorted(nums1+nums2)\n",
    "    return result\n",
    "\n",
    "\n",
    "# driver code\n",
    "nums1 = [1,2,3,0,0,0]\n",
    "m = 3 \n",
    "nums2 = [2,5,6]\n",
    "n = 3 \n",
    "\n",
    "mergeArrays(nums1,nums2,m, n)"
   ]
  },
  {
   "cell_type": "markdown",
   "id": "f11ee364",
   "metadata": {},
   "source": [
    "<aside>\n",
    "**Q6.** Given an integer array nums, return true if any value appears at least twice in the array, and return false if every element is distinct.\n",
    "\n",
    "**Example 1:**\n",
    "Input: nums = [1,2,3,1]\n",
    "\n",
    "Output: true\n",
    "\n",
    "</aside>"
   ]
  },
  {
   "cell_type": "code",
   "execution_count": 104,
   "id": "ba1a3e6c",
   "metadata": {},
   "outputs": [
    {
     "data": {
      "text/plain": [
       "'true'"
      ]
     },
     "execution_count": 104,
     "metadata": {},
     "output_type": "execute_result"
    }
   ],
   "source": [
    "def isDistinct(nums:list[int]):\n",
    "    for i in range(len(nums)):\n",
    "        for j in range(0,i):\n",
    "            if nums[i]==nums[j]:\n",
    "                \n",
    "                return'true'\n",
    "            \n",
    "                \n",
    "    return 'false'\n",
    "\n",
    "\n",
    "# driver code\n",
    "\n",
    "nums = [1,2,3,1]\n",
    "isDistinct(nums)\n",
    "                "
   ]
  },
  {
   "cell_type": "markdown",
   "id": "abdf7d68",
   "metadata": {},
   "source": [
    "\n",
    "    💡 **Q7.** Given an integer array nums, move all 0's to the end of it while maintaining the relative order of the nonzero elements.\n",
    "\n",
    "    Note that you must do this in-place without making a copy of the array.\n",
    "\n",
    "**Example 1:**\n",
    "Input: nums = [0,1,0,3,12]\n",
    "Output: [1,3,12,0,0]\n",
    "\n"
   ]
  },
  {
   "cell_type": "code",
   "execution_count": 114,
   "id": "0bf7ff89",
   "metadata": {},
   "outputs": [
    {
     "data": {
      "text/plain": [
       "[6, 8, 2, 3, 4, 1, 0, 0, 0]"
      ]
     },
     "execution_count": 114,
     "metadata": {},
     "output_type": "execute_result"
    }
   ],
   "source": [
    "def reOrder(nums:list[int]):\n",
    "    k=0\n",
    "    for i in nums:\n",
    "       \n",
    "        if i:\n",
    "            nums[k]=i\n",
    "            k = k+1\n",
    "            \n",
    "    for i in range(k,len(nums)):\n",
    "        nums[i]=0\n",
    "    return nums\n",
    "\n",
    "        \n",
    "# driver code\n",
    "nums = [6, 0, 8, 2, 3, 0, 4, 0, 1]\n",
    "reOrder(nums)\n",
    "        "
   ]
  },
  {
   "cell_type": "markdown",
   "id": "2d429eae",
   "metadata": {},
   "source": [
    "\n",
    " **Q8.** You have a set of integers s, which originally contains all the numbers from 1 to n. Unfortunately, due to some error, one of the numbers in s got duplicated to another number in the set, which results in repetition of one number and loss of another number.\n",
    "\n",
    "You are given an integer array nums representing the data status of this set after the error.\n",
    "\n",
    "Find the number that occurs twice and the number that is missing and return them in the form of an array.\n",
    "\n",
    "**Example 1:**\n",
    "Input: nums = [1,2,2,4]\n",
    "Output: [2,3]\n",
    "\n"
   ]
  },
  {
   "cell_type": "code",
   "execution_count": 160,
   "id": "af0a747e",
   "metadata": {},
   "outputs": [
    {
     "data": {
      "text/plain": [
       "[2, 5]"
      ]
     },
     "execution_count": 160,
     "metadata": {},
     "output_type": "execute_result"
    }
   ],
   "source": [
    "def findDuplicate(arr:list[int]):\n",
    "    \n",
    "    n = len(arr)\n",
    "    for i in range(n-1):\n",
    "        if arr[i+1]-arr[i]==0:\n",
    "            dupe = arr[i+1]\n",
    "        if arr[i+1]-arr[i]==2:\n",
    "            missed = int((arr[i]+arr[i+1])/2)\n",
    "        elif 0 >= arr[i+1]-arr[i] <=1:\n",
    "            missed = arr[n-1]+1\n",
    "    return(list((dupe,missed)))\n",
    "            \n",
    "nums = [1,2,2,3,4]\n",
    "\n",
    "findDuplicate(nums)"
   ]
  },
  {
   "cell_type": "code",
   "execution_count": null,
   "id": "54b8338d",
   "metadata": {},
   "outputs": [],
   "source": []
  }
 ],
 "metadata": {
  "kernelspec": {
   "display_name": "Python 3 (ipykernel)",
   "language": "python",
   "name": "python3"
  },
  "language_info": {
   "codemirror_mode": {
    "name": "ipython",
    "version": 3
   },
   "file_extension": ".py",
   "mimetype": "text/x-python",
   "name": "python",
   "nbconvert_exporter": "python",
   "pygments_lexer": "ipython3",
   "version": "3.10.4"
  }
 },
 "nbformat": 4,
 "nbformat_minor": 5
}
