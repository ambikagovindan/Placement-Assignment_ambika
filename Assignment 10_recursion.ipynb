{
 "cells": [
  {
   "cell_type": "markdown",
   "id": "5193f81f",
   "metadata": {},
   "source": [
    "Given an integer `n`, return *`true` if it is a power of three. Otherwise, return `false`*.\n",
    "\n",
    "An integer `n` is a power of three, if there exists an integer `x` such that `n == 3x`.\n",
    "\n",
    "**Example 1:**"
   ]
  },
  {
   "cell_type": "code",
   "execution_count": 1,
   "id": "d116c24a",
   "metadata": {},
   "outputs": [
    {
     "data": {
      "text/plain": [
       "True"
      ]
     },
     "execution_count": 1,
     "metadata": {},
     "output_type": "execute_result"
    }
   ],
   "source": [
    "def isPowerThree(n:int):\n",
    "    if n%3 != 0:\n",
    "        return False\n",
    "    n = n/3\n",
    "    if abs(n)==1:\n",
    "        return True\n",
    "    return(isPowerThree(n))\n",
    "\n",
    "isPowerThree(27)"
   ]
  },
  {
   "cell_type": "markdown",
   "id": "11453b4a",
   "metadata": {},
   "source": [
    "<aside>\n",
    "💡 **Question 2**\n",
    "\n",
    "You have a list `arr` of all integers in the range `[1, n]` sorted in a strictly increasing order. Apply the following algorithm on `arr`:\n",
    "\n",
    "- Starting from left to right, remove the first number and every other number afterward until you reach the end of the list.\n",
    "- Repeat the previous step again, but this time from right to left, remove the rightmost number and every other number from the remaining numbers.\n",
    "- Keep repeating the steps again, alternating left to right and right to left, until a single number remains.\n",
    "\n",
    "Given the integer `n`, return *the last number that remains in* `arr`\n",
    "\n",
    "</aside>"
   ]
  },
  {
   "cell_type": "code",
   "execution_count": 2,
   "id": "dc41c0fc",
   "metadata": {},
   "outputs": [
    {
     "name": "stdout",
     "output_type": "stream",
     "text": [
      "6\n"
     ]
    }
   ],
   "source": [
    "def lastRemaining(n, dp):\n",
    " \n",
    "  # If dp[n] is already calculated\n",
    "    if n in dp:\n",
    "        return dp[n]\n",
    " \n",
    "    # Base Case:\n",
    "    if n == 1:\n",
    "        return 1\n",
    " \n",
    "    # Recursive Call\n",
    "    else:\n",
    "        dp[n] = 2*(1 + n//2\n",
    "        - lastRemaining(n//2, dp))\n",
    " \n",
    "    # Return the value of dp[n]\n",
    "    return dp[n]\n",
    " \n",
    " \n",
    "# Driver Code\n",
    "\n",
    "N = 9\n",
    "dp = {}\n",
    " \n",
    "# Function Call\n",
    "print(lastRemaining(N, dp))"
   ]
  },
  {
   "cell_type": "markdown",
   "id": "1329a83c",
   "metadata": {},
   "source": [
    "<aside>\n",
    "💡 **Question 3**\n",
    "\n",
    "****Given a set represented as a string, write a recursive code to print all subsets of it. The subsets can be printed in any order.\n",
    "\n",
    "**Example 1:**\n",
    "\n",
    "Input :  set = “abc”\n",
    "\n",
    "Output : { “”, “a”, “b”, “c”, “ab”, “ac”, “bc”, “abc”}\n",
    "\n",
    "**Example 2:**\n",
    "\n",
    "Input : set = “abcd”\n",
    "\n",
    "Output : { “”, “a” ,”ab” ,”abc” ,”abcd”, “abd” ,”ac” ,”acd”, “ad” ,”b”, “bc” ,”bcd” ,”bd” ,”c” ,”cd” ,”d” }\n",
    "\n",
    "</aside>"
   ]
  },
  {
   "cell_type": "code",
   "execution_count": 3,
   "id": "8445d1ed",
   "metadata": {},
   "outputs": [
    {
     "name": "stdout",
     "output_type": "stream",
     "text": [
      "abc\n",
      "ab\n",
      "ac\n",
      "a\n",
      "bc\n",
      "b\n",
      "c\n",
      "\n"
     ]
    }
   ],
   "source": [
    "def powerSet(string, index, curr):\n",
    " \n",
    "    # string : Stores input string\n",
    "    # curr : Stores current subset\n",
    "    # index : Index in current subset, curr\n",
    "    if index == len(string):\n",
    "        print(curr)\n",
    "        return\n",
    " \n",
    "    powerSet(string, index + 1,\n",
    "             curr + string[index])\n",
    "    powerSet(string, index + 1, curr)\n",
    " \n",
    " \n",
    "# Driver Code\n",
    "if __name__ == \"__main__\":\n",
    " \n",
    "    s1 = \"abc\"\n",
    "    index = 0\n",
    "    curr = \"\"\n",
    "    powerSet(s1, index, curr)"
   ]
  },
  {
   "cell_type": "markdown",
   "id": "e9bf2d85",
   "metadata": {},
   "source": [
    "<aside>\n",
    "💡 **Question 4**\n",
    "\n",
    "Given a string calculate length of the string using recursion.\n",
    "\n",
    "</aside>"
   ]
  },
  {
   "cell_type": "code",
   "execution_count": 4,
   "id": "a89038a6",
   "metadata": {},
   "outputs": [
    {
     "data": {
      "text/plain": [
       "7"
      ]
     },
     "execution_count": 4,
     "metadata": {},
     "output_type": "execute_result"
    }
   ],
   "source": [
    "def recursiveLength(s:str):\n",
    "    if s=='':\n",
    "        return 0\n",
    "    else:\n",
    "        return(1+recursiveLength(s[1:]))\n",
    "    \n",
    "# driver code\n",
    "s = 'ineuron'\n",
    "recursiveLength(s)\n",
    "    "
   ]
  },
  {
   "cell_type": "markdown",
   "id": "304890b6",
   "metadata": {},
   "source": [
    "<aside>\n",
    "💡 **Question 5**\n",
    "\n",
    "We are given a string S, we need to find count of all contiguous substrings starting and ending with same character.\n",
    "\n",
    "</aside>"
   ]
  },
  {
   "cell_type": "code",
   "execution_count": 5,
   "id": "9e73c2a0",
   "metadata": {},
   "outputs": [
    {
     "data": {
      "text/plain": [
       "7"
      ]
     },
     "execution_count": 5,
     "metadata": {},
     "output_type": "execute_result"
    }
   ],
   "source": [
    "def checkEquality(s):\n",
    "    return (ord(s[0]) == ord(s[len(s) - 1]));\n",
    " \n",
    "def countSubstringWithEqualEnds(s):\n",
    "    result = 0\n",
    "    n = len(s)\n",
    " \n",
    "    # Starting point of substring\n",
    "    for i in range(n):\n",
    " \n",
    "    # Length of substring\n",
    "        for j in range(1,n-i+1):\n",
    " \n",
    "        # Check if current substring has same\n",
    "        # starting and ending characters.\n",
    "            if (checkEquality(s[i:i+j])):\n",
    "                result+=1\n",
    " \n",
    "    return result\n",
    " \n",
    "# Driver code\n",
    "s = \"abcab\";\n",
    "countSubstringWithEqualEnds(s)"
   ]
  },
  {
   "cell_type": "markdown",
   "id": "53a6ef02",
   "metadata": {},
   "source": [
    "<aside>\n",
    "💡 **Question 6**\n",
    "\n",
    "The [tower of Hanoi](https://en.wikipedia.org/wiki/Tower_of_Hanoi) is a famous puzzle where we have three rods and **N** disks. The objective of the puzzle is to move the entire stack to another rod. You are given the number of discs **N**. Initially, these discs are in the rod 1. You need to print all the steps of discs movement so that all the discs reach the 3rd rod. Also, you need to find the total moves.**Note:** The discs are arranged such that the **top disc is numbered 1** and the **bottom-most disc is numbered N**. Also, all the discs have **different sizes** and a bigger disc **cannot** be put on the top of a smaller disc. Refer the provided link to get a better clarity about the puzzle.\n",
    "\n",
    "</aside>"
   ]
  },
  {
   "cell_type": "code",
   "execution_count": 6,
   "id": "4c3d0d8d",
   "metadata": {},
   "outputs": [
    {
     "name": "stdout",
     "output_type": "stream",
     "text": [
      "Move disk 1 from rod 1 to rod 3\n",
      "Move disk 2 from rod 1 to rod 2\n",
      "Move disk 1 from rod 3 to rod 2\n"
     ]
    }
   ],
   "source": [
    "def TowerOfHanoi(n, from_rod, to_rod, aux_rod):\n",
    "    if n == 0:\n",
    "        return\n",
    "    TowerOfHanoi(n-1, from_rod, aux_rod, to_rod)\n",
    "    print(\"Move disk\", n, \"from rod\", from_rod, \"to rod\", to_rod)\n",
    "    TowerOfHanoi(n-1, aux_rod, to_rod, from_rod)\n",
    "  \n",
    "  \n",
    "# Driver code\n",
    "N = 2\n",
    "  \n",
    "# 1, 2, 3 are the name of rods\n",
    "TowerOfHanoi(N, '1', '2', '3')"
   ]
  },
  {
   "cell_type": "markdown",
   "id": "a7a720ac",
   "metadata": {},
   "source": [
    "<aside>\n",
    "💡 **Question 7**\n",
    "\n",
    "Given a string **str**, the task is to print all the permutations of **str**. A **permutation** is an arrangement of all or part of a set of objects, with regard to the order of the arrangement. For instance, the words ‘bat’ and ‘tab’ represents two distinct permutation (or arrangements) of a similar three letter word.\n",
    "\n",
    "**Examples:**\n",
    "\n",
    "> Input: str = “cd”\n",
    "> \n",
    "> \n",
    "> **Output:** cd dc\n",
    "> \n",
    "> **Input:** str = “abb”\n",
    "> \n",
    "> **Output:** abb abb bab bba bab bba\n",
    "> \n",
    "</aside>"
   ]
  },
  {
   "cell_type": "code",
   "execution_count": 7,
   "id": "ddcc3af1",
   "metadata": {},
   "outputs": [
    {
     "name": "stdout",
     "output_type": "stream",
     "text": [
      "abb\n",
      "abb\n",
      "bab\n",
      "bba\n",
      "bab\n",
      "bba\n"
     ]
    }
   ],
   "source": [
    "def permutations(remaining, candidate=''):\n",
    " \n",
    "    if len(remaining) == 0:\n",
    "        print(candidate)\n",
    " \n",
    "    for i in range(len(remaining)):\n",
    " \n",
    "        newCandidate = candidate + remaining[i]\n",
    "        newRemaining = remaining[0:i] + remaining[i+1:]\n",
    " \n",
    "        permutations(newRemaining, newCandidate)\n",
    "    \n",
    "# driver code\n",
    "S = 'abb'\n",
    "\n",
    "permutations(S)"
   ]
  },
  {
   "cell_type": "markdown",
   "id": "267a69b7",
   "metadata": {},
   "source": [
    "<aside>\n",
    "💡 **Question 8**\n",
    "\n",
    "Given a string, count total number of consonants in it. A consonant is an English alphabet character that is not vowel (a, e, i, o and u). Examples of constants are b, c, d, f, and g.\n",
    "\n",
    "</aside>"
   ]
  },
  {
   "cell_type": "code",
   "execution_count": 8,
   "id": "a3911181",
   "metadata": {},
   "outputs": [
    {
     "data": {
      "text/plain": [
       "3"
      ]
     },
     "execution_count": 8,
     "metadata": {},
     "output_type": "execute_result"
    }
   ],
   "source": [
    "def isConsonant(ch):\n",
    "      \n",
    "    # To handle lower case\n",
    "    ch = ch.upper()\n",
    "  \n",
    "    return not (ch == 'A' or ch == 'E' or \n",
    "                ch == 'I' or ch == 'O' or \n",
    "                ch == 'U') and ord(ch) >= 65 and ord(ch) <= 90\n",
    "  \n",
    "# To count total number of  \n",
    "# consonants from 0 to n-1\n",
    "def totalConsonants(string, n):\n",
    "      \n",
    "    if n == 1:\n",
    "        return isConsonant(string[0])\n",
    "  \n",
    "    return totalConsonants(string, n - 1) + isConsonant(string[n-1])\n",
    "  \n",
    "  \n",
    "# Driver code\n",
    "string = \"abc de\"\n",
    "totalConsonants(string, len(string))"
   ]
  },
  {
   "cell_type": "code",
   "execution_count": null,
   "id": "4ca3f641",
   "metadata": {},
   "outputs": [],
   "source": []
  }
 ],
 "metadata": {
  "kernelspec": {
   "display_name": "Python 3 (ipykernel)",
   "language": "python",
   "name": "python3"
  },
  "language_info": {
   "codemirror_mode": {
    "name": "ipython",
    "version": 3
   },
   "file_extension": ".py",
   "mimetype": "text/x-python",
   "name": "python",
   "nbconvert_exporter": "python",
   "pygments_lexer": "ipython3",
   "version": "3.10.4"
  }
 },
 "nbformat": 4,
 "nbformat_minor": 5
}
