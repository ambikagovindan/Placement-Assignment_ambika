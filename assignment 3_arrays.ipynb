{
 "cells": [
  {
   "cell_type": "markdown",
   "id": "2ca9c55b",
   "metadata": {},
   "source": [
    "Question 1\n",
    "Given an integer array nums of length n and an integer target, find three integers\n",
    "in nums such that the sum is closest to the target.\n",
    "Return the sum of the three integers.\n",
    "\n",
    "You may assume that each input would have exactly one solution.\n",
    "\n",
    "Example 1:\n",
    "Input: nums = [-1,2,1,-4], target = 1\n",
    "Output: 2\n",
    "\n",
    "Explanation: The sum that is closest to the target is 2. (-1 + 2 + 1 = 2)."
   ]
  },
  {
   "cell_type": "code",
   "execution_count": 85,
   "id": "4d615ce3",
   "metadata": {},
   "outputs": [
    {
     "data": {
      "text/plain": [
       "2"
      ]
     },
     "execution_count": 85,
     "metadata": {},
     "output_type": "execute_result"
    }
   ],
   "source": [
    "def threeSumClosest(nums: list[int], target: int):\n",
    "    # Sort the given array\n",
    "    nums.sort()\n",
    "    # Length of the array\n",
    "    n = len(nums)\n",
    "    # Closest value\n",
    "    closest = nums[0] + nums[1] + nums[n - 1]\n",
    "    # Loop for each element of the array\n",
    "    for i in range(0, n - 2):\n",
    "        # Left and right pointers\n",
    "        j = i + 1\n",
    "        k = n - 1\n",
    "        # Loop for all other pairs\n",
    "        while j < k:\n",
    "            current_sum = nums[i] + nums[j] + nums[k]\n",
    "            if current_sum <= target:\n",
    "                j += 1\n",
    "            else:\n",
    "                k -= 1\n",
    "            if abs(closest - target) > abs(current_sum - target):\n",
    "                closest = current_sum\n",
    "    return closest\n",
    "\n",
    "#driver code\n",
    "nums = [-1,2,1,-4]\n",
    "target = 1\n",
    "threeSumClosest(nums,target)"
   ]
  },
  {
   "cell_type": "markdown",
   "id": "8a51436c",
   "metadata": {},
   "source": [
    "Question 2\n",
    "Given an array nums of n integers, return an array of all the unique quadruplets\n",
    "[nums[a], nums[b], nums[c], nums[d]] such that:\n",
    "           ● 0 <= a, b, c, d < n\n",
    "           ● a, b, c, and d are distinct.\n",
    "           ● nums[a] + nums[b] + nums[c] + nums[d] == target\n",
    "\n",
    "You may return the answer in any order.\n",
    "\n",
    "Example 1:\n",
    "Input: nums = [1,0,-1,0,-2,2], target = 0\n",
    "Output: [[-2,-1,1,2],[-2,0,0,2],[-1,0,0,1]]"
   ]
  },
  {
   "cell_type": "code",
   "execution_count": 87,
   "id": "82652bb4",
   "metadata": {},
   "outputs": [
    {
     "name": "stdout",
     "output_type": "stream",
     "text": [
      "(-2, 0, 0, 2)\n",
      "(-1, 0, 0, 1)\n",
      "(-2, -1, 1, 2)\n"
     ]
    }
   ],
   "source": [
    "# Store the pair of indices\n",
    "class Pair:\n",
    "    def __init__(self, x, y):\n",
    "        self.index1 = x\n",
    "        self.index2 = y\n",
    " \n",
    " # Function to find the all the unique quadruplets\n",
    "# with the elements at different indices\n",
    "def GetQuadruplets(nums, target):\n",
    "    # Store the sum mapped to a list of pair indices\n",
    "    map = {}\n",
    " \n",
    "    # Generate all possible pairs for the map\n",
    "    for i in range(len(nums) - 1):\n",
    "        for j in range(i + 1, len(nums)):\n",
    "            # Find the sum of pairs of elements\n",
    "            sum = nums[i] + nums[j]\n",
    " \n",
    "            # If the sum doesn't exist then update with the new pairs\n",
    "            if sum not in map:\n",
    "                map[sum] = [Pair(i, j)]\n",
    "            # Otherwise, add the new pair of indices to the current sum\n",
    "            else:\n",
    "                map[sum].append(Pair(i, j))\n",
    " \n",
    "    # Store all the Quadruplets\n",
    "    ans = set()\n",
    " \n",
    "    for i in range(len(nums) - 1):\n",
    "        for j in range(i + 1, len(nums)):\n",
    "            lookUp = target - (nums[i] + nums[j])\n",
    " \n",
    "            # If the sum with value (K - sum) exists\n",
    "            if lookUp in map:\n",
    "                # Get the pair of indices of sum\n",
    "                temp = map[lookUp]\n",
    " \n",
    "                for pair in temp:\n",
    "                    # Check if i, j, k and l are distinct or not\n",
    "                    if pair.index1 != i and pair.index1 != j and pair.index2 != i and pair.index2 != j:\n",
    "                        l1 = [nums[pair.index1], nums[pair.index2], nums[i], nums[j]]\n",
    "                         \n",
    "                        # Sort the list to avoid duplicacy\n",
    "                        l1.sort()\n",
    "                         \n",
    "                        # Update the set\n",
    "                        ans.add(tuple(l1))\n",
    " \n",
    "    # Print all the Quadruplets\n",
    "    print(*reversed(list(ans)), sep = '\\n')\n",
    " \n",
    " #driver code\n",
    "arr = [1, 0, -1, 0, -2, 2]\n",
    "K = 0\n",
    "GetQuadruplets(arr, K)\n",
    " \n"
   ]
  },
  {
   "cell_type": "markdown",
   "id": "db9c538f",
   "metadata": {},
   "source": [
    "Question 3\n",
    " A permutation of an array of integers is an arrangement of its members into a\n",
    "sequence or linear order.\n",
    "\n",
    "For example, for arr = [1,2,3], the following are all the permutations of arr:\n",
    "[1,2,3], [1,3,2], [2, 1, 3], [2, 3, 1], [3,1,2], [3,2,1].\n",
    "\n",
    "The next permutation of an array of integers is the next lexicographically greater\n",
    "permutation of its integer. More formally, if all the permutations of the array are\n",
    "sorted in one container according to their lexicographical order, then the next\n",
    "permutation of that array is the permutation that follows it in the sorted container.\n",
    "\n",
    "If such an arrangement is not possible, the array must be rearranged as the\n",
    "lowest possible order (i.e., sorted in ascending order).\n",
    "\n",
    "● For example, the next permutation of arr = [1,2,3] is [1,3,2].\n",
    "● Similarly, the next permutation of arr = [2,3,1] is [3,1,2].\n",
    "● While the next permutation of arr = [3,2,1] is [1,2,3] because [3,2,1] does not\n",
    "have a lexicographical larger rearrangement.\n",
    "\n",
    "Given an array of integers nums, find the next permutation of nums.\n",
    "The replacement must be in place and use only constant extra memory.\n",
    "\n",
    "**Example 1:**\n",
    "Input: nums = [1,2,3]\n",
    "Output: [1,3,2]\n",
    "\n"
   ]
  },
  {
   "cell_type": "code",
   "execution_count": 92,
   "id": "eee35e2b",
   "metadata": {},
   "outputs": [
    {
     "data": {
      "text/plain": [
       "[1, 3, 2]"
      ]
     },
     "execution_count": 92,
     "metadata": {},
     "output_type": "execute_result"
    }
   ],
   "source": [
    "def next_permutation(nums):\n",
    "    i = len(nums) - 2\n",
    "    while i >= 0 and nums[i + 1] <= nums[i]:\n",
    "        i -= 1\n",
    "    if i >= 0:\n",
    "        j = len(nums) - 1\n",
    "        while nums[j] <= nums[i]:\n",
    "            j -= 1\n",
    "        nums[i], nums[j] = nums[j], nums[i]\n",
    "    reverse(nums, i + 1)\n",
    "    return nums\n",
    "\n",
    "def reverse(nums, start):\n",
    "    i, j = start, len(nums) - 1\n",
    "    while i < j:\n",
    "        nums[i], nums[j] = nums[j], nums[i]\n",
    "        i += 1\n",
    "        j -= 1\n",
    "        \n",
    "# driver code\n",
    "nums = [1,2,3]\n",
    "next_permutation(nums)"
   ]
  },
  {
   "cell_type": "markdown",
   "id": "2b46ed73",
   "metadata": {},
   "source": [
    "Question 4\n",
    "Given a sorted array of distinct integers and a target value, return the index if the\n",
    "target is found. If not, return the index where it would be if it were inserted in\n",
    "order.\n",
    "\n",
    "You must write an algorithm with O(log n) runtime complexity.\n",
    "\n",
    "Example 1:\n",
    "Input: nums = [1,3,5,6], target = 5\n",
    "Output: 2\n",
    " "
   ]
  },
  {
   "cell_type": "code",
   "execution_count": 107,
   "id": "da7f4e5d",
   "metadata": {},
   "outputs": [
    {
     "data": {
      "text/plain": [
       "4"
      ]
     },
     "execution_count": 107,
     "metadata": {},
     "output_type": "execute_result"
    }
   ],
   "source": [
    "def findIndex(arr:list[int],target:int):\n",
    "    n = len(arr)\n",
    "    \n",
    "    # if target is in the array\n",
    "    for i in range(n):\n",
    "        if arr[i]==target:\n",
    "            result = i\n",
    "            \n",
    "     # if target is not in array and between indices 1 and n       \n",
    "    for i in range(n-1):\n",
    "        if arr[i] < target <arr[i+1]:\n",
    "            result = i+1\n",
    "            \n",
    "    # if target is not in array and the smaalest number        \n",
    "    if arr[0] > target:\n",
    "        result = 0\n",
    "     # if target is not in array and the largest number   \n",
    "    elif target > arr[n-1]:\n",
    "        result = n\n",
    "            \n",
    "    return result \n",
    "\n",
    "# driver code\n",
    "\n",
    "arr = [1,3,5,6,8]\n",
    "target = 7\n",
    "findIndex(arr,target)"
   ]
  },
  {
   "cell_type": "markdown",
   "id": "0bda6c3f",
   "metadata": {},
   "source": [
    "\n",
    " **Question 5**\n",
    "You are given a large integer represented as an integer array digits, where each\n",
    "digits[i] is the ith digit of the integer. The digits are ordered from most significant\n",
    "to least significant in left-to-right order. The large integer does not contain any\n",
    "leading 0's.\n",
    "\n",
    "Increment the large integer by one and return the resulting array of digits.\n",
    "\n",
    "**Example 1:**\n",
    "Input: digits = [1,2,3]\n",
    "Output: [1,2,4]\n",
    "\n",
    "**Explanation:** The array represents the integer 123.\n",
    "Incrementing by one gives 123 + 1 = 124.\n",
    "Thus, the result should be [1,2,4].\n",
    "\n"
   ]
  },
  {
   "cell_type": "code",
   "execution_count": 109,
   "id": "f14ded09",
   "metadata": {},
   "outputs": [
    {
     "data": {
      "text/plain": [
       "[1, 2, 4]"
      ]
     },
     "execution_count": 109,
     "metadata": {},
     "output_type": "execute_result"
    }
   ],
   "source": [
    "def plusOne( digits: list[int]):\n",
    "    n = len(digits)\n",
    "    for i in range(n - 1, -1, -1):\n",
    "        digits[i] += 1\n",
    "        digits[i] %= 10\n",
    "        if digits[i] != 0:\n",
    "            return digits\n",
    "    return [1] + digits\n",
    "\n",
    "#driver code\n",
    "\n",
    "arr = [1,2,3]\n",
    "plusOne(arr)"
   ]
  },
  {
   "cell_type": "markdown",
   "id": "a0c32298",
   "metadata": {},
   "source": [
    "Question 6\n",
    "Given a non-empty array of integers nums, every element appears twice except\n",
    "for one. Find that single one.\n",
    "\n",
    "You must implement a solution with a linear runtime complexity and use only\n",
    "constant extra space.\n",
    "\n",
    "Example 1:\n",
    "Input: nums = [2,2,1]\n",
    "Output: 1"
   ]
  },
  {
   "cell_type": "code",
   "execution_count": 113,
   "id": "9762a950",
   "metadata": {},
   "outputs": [
    {
     "data": {
      "text/plain": [
       "4"
      ]
     },
     "execution_count": 113,
     "metadata": {},
     "output_type": "execute_result"
    }
   ],
   "source": [
    "def findSingle(arr:list[int]):\n",
    "    for i in arr:\n",
    "        if arr.count(i)==1:\n",
    "            result = i\n",
    "    return result\n",
    "\n",
    "# driver code            \n",
    "nums = [2,2,3,3,4] \n",
    "\n",
    "findSingle(nums)"
   ]
  },
  {
   "cell_type": "markdown",
   "id": "2bbee956",
   "metadata": {},
   "source": [
    "Question 7\n",
    "You are given an inclusive range [lower, upper] and a sorted unique integer array\n",
    "nums, where all elements are within the inclusive range.\n",
    "\n",
    "A number x is considered missing if x is in the range [lower, upper] and x is not in\n",
    "nums.\n",
    "\n",
    "Return the shortest sorted list of ranges that exactly covers all the missing\n",
    "numbers. That is, no element of nums is included in any of the ranges, and each\n",
    "missing number is covered by one of the ranges.\n",
    "\n",
    "Example 1:\n",
    "Input: nums = [0,1,3,50,75], lower = 0, upper = 99\n",
    "Output: [[2,2],[4,49],[51,74],[76,99]]\n",
    "\n",
    "Explanation: The ranges are:\n",
    "[2,2]\n",
    "[4,49]\n",
    "[51,74]\n",
    "[76,99]"
   ]
  },
  {
   "cell_type": "code",
   "execution_count": 147,
   "id": "f58d8cc9",
   "metadata": {},
   "outputs": [
    {
     "data": {
      "text/plain": [
       "[[0, 2], [4, 49], [51, 74], [76, 99]]"
      ]
     },
     "execution_count": 147,
     "metadata": {},
     "output_type": "execute_result"
    }
   ],
   "source": [
    "def rangeMissing(nums:list[int],lower:int,upper:int):\n",
    "    \n",
    "    n = len(nums)\n",
    "    result = []\n",
    "    \n",
    "    if nums[0] > lower:\n",
    "        result.append([lower,nums[0]-1])   \n",
    "    \n",
    "    \n",
    "    for i in range(lower,upper+1):\n",
    "        for j in range(n-1):\n",
    "            if i in range(nums[j]+2,nums[j+1]):\n",
    "                continue\n",
    "            \n",
    "            if nums[j] < i < nums[j+1]:\n",
    "                result.append([i,nums[j+1]-1])\n",
    "    \n",
    "        \n",
    "    if upper > nums[n-1]:\n",
    "        result.append([nums[n-1]+1,upper])\n",
    "     \n",
    "        \n",
    "        \n",
    "    \n",
    "    return result   \n",
    "\n",
    "# driver code \n",
    "nums = [3,50,75]\n",
    "lower = 0\n",
    "upper = 99\n",
    "rangeMissing(nums,lower,upper)"
   ]
  },
  {
   "cell_type": "markdown",
   "id": "30be1378",
   "metadata": {},
   "source": [
    "Question 8\n",
    "    Given an array of meeting time intervals where intervals[i] = [starti, endi],\n",
    "    determine if a person could attend all meetings.\n",
    "\n",
    "Example 1:\n",
    "Input: intervals = [[0,30],[5,10],[15,20]]\n",
    "Output: false"
   ]
  },
  {
   "cell_type": "code",
   "execution_count": 167,
   "id": "3627b021",
   "metadata": {},
   "outputs": [
    {
     "data": {
      "text/plain": [
       "False"
      ]
     },
     "execution_count": 167,
     "metadata": {},
     "output_type": "execute_result"
    }
   ],
   "source": [
    "def canAttendMeeting(intervals:list):\n",
    "    intervals.sort(key=lambda x:x[1])\n",
    "    \n",
    "    n = len(intervals)\n",
    "        \n",
    "    for i in range(n-1):\n",
    "        if intervals[i][1] > intervals[i+1][0]:\n",
    "            return False\n",
    "    return True\n",
    "\n",
    "# driver code         \n",
    "intervals = [[0,30],[5,10],[15,20]]\n",
    "\n",
    "canAttendMeeting(intervals)"
   ]
  }
 ],
 "metadata": {
  "kernelspec": {
   "display_name": "Python 3 (ipykernel)",
   "language": "python",
   "name": "python3"
  },
  "language_info": {
   "codemirror_mode": {
    "name": "ipython",
    "version": 3
   },
   "file_extension": ".py",
   "mimetype": "text/x-python",
   "name": "python",
   "nbconvert_exporter": "python",
   "pygments_lexer": "ipython3",
   "version": "3.10.4"
  }
 },
 "nbformat": 4,
 "nbformat_minor": 5
}
